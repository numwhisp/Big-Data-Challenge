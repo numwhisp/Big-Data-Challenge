{
  "nbformat": 4,
  "nbformat_minor": 0,
  "metadata": {
    "colab": {
      "name": "Shoes.ipynb",
      "provenance": [],
      "collapsed_sections": []
    },
    "kernelspec": {
      "name": "python3",
      "display_name": "Python 3"
    },
    "language_info": {
      "name": "python"
    }
  },
  "cells": [
    {
      "cell_type": "code",
      "metadata": {
        "id": "7m6cYm1ZRpVs",
        "colab": {
          "base_uri": "https://localhost:8080/"
        },
        "outputId": "981cd85b-3a2d-473b-ebae-ac59e06930da"
      },
      "source": [
        "import os\n",
        "# Find the latest version of spark 3.0  from http://www.apache.org/dist/spark/ and enter as the spark version\n",
        "# For example:\n",
        "# spark_version = 'spark-3.0.3'\n",
        "spark_version = 'spark-3.2.0'\n",
        "os.environ['SPARK_VERSION']=spark_version\n",
        "\n",
        "# Install Spark and Java\n",
        "!apt-get update\n",
        "!apt-get install openjdk-8-jdk-headless -qq > /dev/null\n",
        "!wget -q http://www.apache.org/dist/spark/$SPARK_VERSION/$SPARK_VERSION-bin-hadoop2.7.tgz\n",
        "!tar xf $SPARK_VERSION-bin-hadoop2.7.tgz\n",
        "!pip install -q findspark\n",
        "\n",
        "# Set Environment Variables\n",
        "os.environ[\"JAVA_HOME\"] = \"/usr/lib/jvm/java-8-openjdk-amd64\"\n",
        "os.environ[\"SPARK_HOME\"] = f\"/content/{spark_version}-bin-hadoop2.7\"\n",
        "\n",
        "# Start a SparkSession\n",
        "import findspark\n",
        "findspark.init()"
      ],
      "execution_count": 1,
      "outputs": [
        {
          "output_type": "stream",
          "name": "stdout",
          "text": [
            "\r0% [Working]\r            \rIgn:1 https://developer.download.nvidia.com/compute/cuda/repos/ubuntu1804/x86_64  InRelease\n",
            "Ign:2 https://developer.download.nvidia.com/compute/machine-learning/repos/ubuntu1804/x86_64  InRelease\n",
            "Hit:3 https://developer.download.nvidia.com/compute/cuda/repos/ubuntu1804/x86_64  Release\n",
            "Hit:4 https://developer.download.nvidia.com/compute/machine-learning/repos/ubuntu1804/x86_64  Release\n",
            "Get:5 http://security.ubuntu.com/ubuntu bionic-security InRelease [88.7 kB]\n",
            "Get:6 http://ppa.launchpad.net/c2d4u.team/c2d4u4.0+/ubuntu bionic InRelease [15.9 kB]\n",
            "Hit:7 http://archive.ubuntu.com/ubuntu bionic InRelease\n",
            "Get:9 http://archive.ubuntu.com/ubuntu bionic-updates InRelease [88.7 kB]\n",
            "Hit:11 http://ppa.launchpad.net/cran/libgit2/ubuntu bionic InRelease\n",
            "Get:12 http://archive.ubuntu.com/ubuntu bionic-backports InRelease [74.6 kB]\n",
            "Hit:13 http://ppa.launchpad.net/deadsnakes/ppa/ubuntu bionic InRelease\n",
            "Get:14 https://cloud.r-project.org/bin/linux/ubuntu bionic-cran40/ InRelease [3,626 B]\n",
            "Hit:15 http://ppa.launchpad.net/graphics-drivers/ppa/ubuntu bionic InRelease\n",
            "Get:16 http://ppa.launchpad.net/c2d4u.team/c2d4u4.0+/ubuntu bionic/main Sources [1,812 kB]\n",
            "Get:17 http://archive.ubuntu.com/ubuntu bionic-updates/main amd64 Packages [2,867 kB]\n",
            "Get:18 http://ppa.launchpad.net/c2d4u.team/c2d4u4.0+/ubuntu bionic/main amd64 Packages [928 kB]\n",
            "Fetched 5,878 kB in 4s (1,548 kB/s)\n",
            "Reading package lists... Done\n"
          ]
        }
      ]
    },
    {
      "cell_type": "code",
      "metadata": {
        "id": "pzFKH1m4R8bu",
        "colab": {
          "base_uri": "https://localhost:8080/"
        },
        "outputId": "b83fb993-f4d9-45b7-e7ee-97ac41174bbd"
      },
      "source": [
        "!wget https://jdbc.postgresql.org/download/postgresql-42.2.9.jar"
      ],
      "execution_count": 2,
      "outputs": [
        {
          "output_type": "stream",
          "name": "stdout",
          "text": [
            "--2021-11-22 04:34:26--  https://jdbc.postgresql.org/download/postgresql-42.2.9.jar\n",
            "Resolving jdbc.postgresql.org (jdbc.postgresql.org)... 72.32.157.228, 2001:4800:3e1:1::228\n",
            "Connecting to jdbc.postgresql.org (jdbc.postgresql.org)|72.32.157.228|:443... connected.\n",
            "HTTP request sent, awaiting response... 200 OK\n",
            "Length: 914037 (893K) [application/java-archive]\n",
            "Saving to: ‘postgresql-42.2.9.jar’\n",
            "\n",
            "postgresql-42.2.9.j 100%[===================>] 892.61K  5.51MB/s    in 0.2s    \n",
            "\n",
            "2021-11-22 04:34:26 (5.51 MB/s) - ‘postgresql-42.2.9.jar’ saved [914037/914037]\n",
            "\n"
          ]
        }
      ]
    },
    {
      "cell_type": "code",
      "metadata": {
        "id": "X-R5ZZ55SB5X"
      },
      "source": [
        "from pyspark.sql import SparkSession\n",
        "spark = SparkSession.builder.appName(\"CloudETL\").config(\"spark.driver.extraClassPath\",\"/content/postgresql-42.2.9.jar\").getOrCreate()"
      ],
      "execution_count": 3,
      "outputs": []
    },
    {
      "cell_type": "code",
      "metadata": {
        "id": "YataH1_CSZYZ",
        "colab": {
          "base_uri": "https://localhost:8080/"
        },
        "outputId": "79252fc3-ee54-4876-e67c-e59f1526b3af"
      },
      "source": [
        "from pyspark import SparkFiles\n",
        "# Load in Shoes review data from s3.amazonaws.com into a DataFrame\n",
        "url = \"https://s3.amazonaws.com/amazon-reviews-pds/tsv/amazon_reviews_us_Shoes_v1_00.tsv.gz\"\n",
        "spark.sparkContext.addFile(url)\n",
        "\n",
        "shoes_df = spark.read.option('header', 'true').csv(SparkFiles.get(\"amazon_reviews_us_Shoes_v1_00.tsv.gz\"), inferSchema=True, sep=\"\\t\", timestampFormat=\"mm/dd/yy\")\n",
        "shoes_df.show(10)"
      ],
      "execution_count": 4,
      "outputs": [
        {
          "output_type": "stream",
          "name": "stdout",
          "text": [
            "+-----------+-----------+--------------+----------+--------------+--------------------+----------------+-----------+-------------+-----------+----+-----------------+--------------------+--------------------+-----------+\n",
            "|marketplace|customer_id|     review_id|product_id|product_parent|       product_title|product_category|star_rating|helpful_votes|total_votes|vine|verified_purchase|     review_headline|         review_body|review_date|\n",
            "+-----------+-----------+--------------+----------+--------------+--------------------+----------------+-----------+-------------+-----------+----+-----------------+--------------------+--------------------+-----------+\n",
            "|         US|   18069663|R3P2HIOQCIN5ZU|B000XB31C0|     265024781|Minnetonka Men's ...|           Shoes|          1|            0|          0|   N|                Y|                   .|Do not buy: reall...| 2015-08-31|\n",
            "|         US|   16251825|R12VVR0WH5Q24V|B00CFYZH5W|     259035853|Teva Men's Pajaro...|           Shoes|          5|            0|          0|   N|                Y|     super flip flop|provides great cu...| 2015-08-31|\n",
            "|         US|   20381037| RNCCKB6TV5EEF|B00S8JNN3Q|     666066660|Anne Klein Perfec...|           Shoes|          4|            0|          0|   N|                Y| Great clutch purse!|It's perfect if y...| 2015-08-31|\n",
            "|         US|     108364|R2NZXYIVCGB13W|B00XFBPOQG|     448483263|adidas Men's 10K ...|           Shoes|          5|            0|          6|   N|                Y|              Badass|  Getting what u see| 2015-08-31|\n",
            "|         US|   45449350|R2EQ1TG9IT3OEQ|B00SW64Y9W|       7853171|OverBling Sneaker...|           Shoes|          3|            0|          0|   N|                Y|         Three Stars|               small| 2015-08-31|\n",
            "|         US|   19324665|R1WXA9JSC2H1U1|B011F9E6LI|      14311457|MESSI 15.3 FG/AG ...|           Shoes|          5|            1|          1|   N|                Y|          Five Stars|My 13 year old so...| 2015-08-31|\n",
            "|         US|   50073594|R12ENYLFGGNWRV|B00HAUP1OI|     264821602|Hoka One One Men'...|           Shoes|          5|            1|          1|   N|                Y|Finally, some cus...|Ok, I have been s...| 2015-08-31|\n",
            "|         US|   21706057|R2R07E5PNXEUO5|B00L1RKOKW|     767118055|Olukai Nohea Mesh...|           Shoes|          4|            0|          0|   N|                Y|good deal, but ha...|I went a full siz...| 2015-08-31|\n",
            "|         US|   13708216|R27BA52AKWMWN3|B005WA9MSE|     813856438|Carolina Mens 6\" ...|           Shoes|          5|            0|          0|   N|                Y|... would have to...|I would have to s...| 2015-08-31|\n",
            "|         US|   40542649| RLF8DOID2KD5O|B00BEYQI5C|     661491213|Alegria Women's S...|           Shoes|          3|            0|          0|   N|                Y|           Too small|The size is misle...| 2015-08-31|\n",
            "+-----------+-----------+--------------+----------+--------------+--------------------+----------------+-----------+-------------+-----------+----+-----------------+--------------------+--------------------+-----------+\n",
            "only showing top 10 rows\n",
            "\n"
          ]
        }
      ]
    },
    {
      "cell_type": "code",
      "metadata": {
        "id": "92Icjv-PU86L",
        "colab": {
          "base_uri": "https://localhost:8080/"
        },
        "outputId": "08a59ca2-7bd6-4aac-e1eb-cac0b4122970"
      },
      "source": [
        "#count rows\n",
        "print(shoes_df.count())\n"
      ],
      "execution_count": 5,
      "outputs": [
        {
          "output_type": "stream",
          "name": "stdout",
          "text": [
            "4366916\n"
          ]
        }
      ]
    },
    {
      "cell_type": "code",
      "metadata": {
        "id": "lL_l3OAyVVsy",
        "colab": {
          "base_uri": "https://localhost:8080/"
        },
        "outputId": "33d96d7d-a826-4c2c-d529-7e73fe4ecf0d"
      },
      "source": [
        "#drop incomplete rows\n",
        "shoes_df = shoes_df.dropna()\n",
        "print(shoes_df.count())"
      ],
      "execution_count": 6,
      "outputs": [
        {
          "output_type": "stream",
          "name": "stdout",
          "text": [
            "4366324\n"
          ]
        }
      ]
    },
    {
      "cell_type": "code",
      "metadata": {
        "id": "mXA-vpmGVNM8",
        "colab": {
          "base_uri": "https://localhost:8080/"
        },
        "outputId": "3b151c37-a279-4b71-a652-f9defee69192"
      },
      "source": [
        "#drop duplicates\n",
        "shoes_df = shoes_df.dropDuplicates()\n",
        "#show total counts of Shoes reviews data after dropping duplicates and incomplete rows\n",
        "print(shoes_df.count())\n"
      ],
      "execution_count": 7,
      "outputs": [
        {
          "output_type": "stream",
          "name": "stdout",
          "text": [
            "4366324\n"
          ]
        }
      ]
    },
    {
      "cell_type": "code",
      "metadata": {
        "id": "4Jn2DEZMWSoE",
        "colab": {
          "base_uri": "https://localhost:8080/"
        },
        "outputId": "196a4004-749f-4893-ea8f-97479e467148"
      },
      "source": [
        "shoes_df.printSchema()"
      ],
      "execution_count": 8,
      "outputs": [
        {
          "output_type": "stream",
          "name": "stdout",
          "text": [
            "root\n",
            " |-- marketplace: string (nullable = true)\n",
            " |-- customer_id: integer (nullable = true)\n",
            " |-- review_id: string (nullable = true)\n",
            " |-- product_id: string (nullable = true)\n",
            " |-- product_parent: integer (nullable = true)\n",
            " |-- product_title: string (nullable = true)\n",
            " |-- product_category: string (nullable = true)\n",
            " |-- star_rating: integer (nullable = true)\n",
            " |-- helpful_votes: integer (nullable = true)\n",
            " |-- total_votes: integer (nullable = true)\n",
            " |-- vine: string (nullable = true)\n",
            " |-- verified_purchase: string (nullable = true)\n",
            " |-- review_headline: string (nullable = true)\n",
            " |-- review_body: string (nullable = true)\n",
            " |-- review_date: string (nullable = true)\n",
            "\n"
          ]
        }
      ]
    },
    {
      "cell_type": "markdown",
      "metadata": {
        "id": "tcZwzYK1XKED"
      },
      "source": [
        "Transform DataFrame to Table Schema"
      ]
    },
    {
      "cell_type": "code",
      "metadata": {
        "id": "rgV9gNkGgcin",
        "colab": {
          "base_uri": "https://localhost:8080/"
        },
        "outputId": "0f269886-3333-40a8-ddff-e100d59beaf4"
      },
      "source": [
        "# Converting review_date column from string to date \n",
        "from pyspark.sql.functions import to_date\n",
        " \n",
        "shoes_df1 = shoes_df.withColumn('review_date',to_date(shoes_df.review_date, 'yyyy-MM-dd'))\n",
        "shoes_df1.printSchema()\n",
        "shoes_df1.select(\"review_date\").dtypes"
      ],
      "execution_count": 9,
      "outputs": [
        {
          "output_type": "stream",
          "name": "stdout",
          "text": [
            "root\n",
            " |-- marketplace: string (nullable = true)\n",
            " |-- customer_id: integer (nullable = true)\n",
            " |-- review_id: string (nullable = true)\n",
            " |-- product_id: string (nullable = true)\n",
            " |-- product_parent: integer (nullable = true)\n",
            " |-- product_title: string (nullable = true)\n",
            " |-- product_category: string (nullable = true)\n",
            " |-- star_rating: integer (nullable = true)\n",
            " |-- helpful_votes: integer (nullable = true)\n",
            " |-- total_votes: integer (nullable = true)\n",
            " |-- vine: string (nullable = true)\n",
            " |-- verified_purchase: string (nullable = true)\n",
            " |-- review_headline: string (nullable = true)\n",
            " |-- review_body: string (nullable = true)\n",
            " |-- review_date: date (nullable = true)\n",
            "\n"
          ]
        },
        {
          "output_type": "execute_result",
          "data": {
            "text/plain": [
              "[('review_date', 'date')]"
            ]
          },
          "metadata": {},
          "execution_count": 9
        }
      ]
    },
    {
      "cell_type": "code",
      "metadata": {
        "id": "-TJRjJ07TuCR",
        "colab": {
          "base_uri": "https://localhost:8080/"
        },
        "outputId": "5f9c7300-ef76-42d6-fb78-c41e657acfde"
      },
      "source": [
        "review_id_table = shoes_df1.select([\"review_id\",\"customer_id\",\"product_id\",\"product_parent\", \"review_date\"])\n",
        "review_id_table.show()"
      ],
      "execution_count": 10,
      "outputs": [
        {
          "output_type": "stream",
          "name": "stdout",
          "text": [
            "+--------------+-----------+----------+--------------+-----------+\n",
            "|     review_id|customer_id|product_id|product_parent|review_date|\n",
            "+--------------+-----------+----------+--------------+-----------+\n",
            "|R1000E0AHJ5E1V|   12731835|B00E9PFHPK|     257352271| 2013-10-04|\n",
            "|R100A5CHCA9GMG|   12123247|B00DZI79R6|     575104294| 2015-04-10|\n",
            "|R100A968SZR4GH|    2481979|B00AMU1Z4I|     706513982| 2014-08-04|\n",
            "|R100HVIG9VEABL|   10761726|B003GIS6FE|     634629189| 2011-05-14|\n",
            "|R100ZMBT0DGFFH|   32268353|B0061RUKCE|     195365109| 2014-08-20|\n",
            "|R101BSLZ8K12T6|    1796899|B0023NTWN8|     300200501| 2015-01-23|\n",
            "|R101I5DOJAUSZ7|   23422005|B00QAKVP4E|      77952021| 2015-04-01|\n",
            "|R101VVQ9LXBADV|   35169932|B00B9TXEUY|     898577149| 2014-05-30|\n",
            "|R101VY19JHVABI|   37230772|B005CFVSZY|     268889520| 2013-10-06|\n",
            "|R1026R3QQEM02Q|   28698079|B000TH4T42|     361609926| 2015-08-20|\n",
            "|R102IW3CHZL3F4|   41657996|B001G8FD2K|     805441169| 2012-12-05|\n",
            "|R102JNG6P6AHY7|   49541857|B0090S9KJK|     807355156| 2013-02-15|\n",
            "|R102X52FTDKNGJ|   14784542|B004MOFUBY|     553579892| 2012-09-12|\n",
            "|R10330PL0P9BSY|   15510683|B0026ZQJF2|     478541034| 2015-01-07|\n",
            "|R10344J7GD2XPS|   36227396|B00CYBLN3G|     160601677| 2014-07-17|\n",
            "|R103HFRKS7OKCL|   38872696|B003PGQ8VG|     195755249| 2013-12-27|\n",
            "|R103LSHIXS0HR7|    1247290|B00K3HLFZE|     488711724| 2015-04-26|\n",
            "|R103PNMOO7Y7MV|    8833880|B0088QMEAM|     825867191| 2015-06-22|\n",
            "|R1044V6AE4VQP4|   25447590|B006ZUU446|     856450095| 2014-01-19|\n",
            "|R1045O9YS6DARS|   43797298|B003C1POY6|     329163698| 2012-10-25|\n",
            "+--------------+-----------+----------+--------------+-----------+\n",
            "only showing top 20 rows\n",
            "\n"
          ]
        }
      ]
    },
    {
      "cell_type": "code",
      "metadata": {
        "id": "mJ1EfpvEiXop",
        "colab": {
          "base_uri": "https://localhost:8080/"
        },
        "outputId": "6fdcfc38-05eb-4f22-cf10-ec568b4b054f"
      },
      "source": [
        "products = shoes_df1.select([\"product_id\",\"product_title\"])\n",
        "products.show()"
      ],
      "execution_count": 11,
      "outputs": [
        {
          "output_type": "stream",
          "name": "stdout",
          "text": [
            "+----------+--------------------+\n",
            "|product_id|       product_title|\n",
            "+----------+--------------------+\n",
            "|B00E9PFHPK|Qupid Ponder-06 N...|\n",
            "|B00DZI79R6|REFRESH CHERRY-02...|\n",
            "|B00AMU1Z4I|Nike Women's Luna...|\n",
            "|B003GIS6FE|Keen Concordia Co...|\n",
            "|B0061RUKCE|LensCovers Sungla...|\n",
            "|B0023NTWN8|Kamik Rocket Cold...|\n",
            "|B00QAKVP4E|Gabor Lanzarote 7...|\n",
            "|B00B9TXEUY|Merrell Women's J...|\n",
            "|B005CFVSZY|Crocs Women's Adr...|\n",
            "|B000TH4T42|Bogs Men's Classi...|\n",
            "|B001G8FD2K|KEEN Kootenay Win...|\n",
            "|B0090S9KJK|Qupid PROUD-09 Cu...|\n",
            "|B004MOFUBY|Stride Rite Flora...|\n",
            "|B0026ZQJF2|Bearpaw Women's K...|\n",
            "|B00CYBLN3G|Skechers Sport Wo...|\n",
            "|B003PGQ8VG|Polo Ralph Lauren...|\n",
            "|B00K3HLFZE|PUMA Men's San Pa...|\n",
            "|B0088QMEAM|ASICS Men's GEL-1...|\n",
            "|B006ZUU446|Clarks Women's Un...|\n",
            "|B003C1POY6|Propet Women's Am...|\n",
            "+----------+--------------------+\n",
            "only showing top 20 rows\n",
            "\n"
          ]
        }
      ]
    },
    {
      "cell_type": "code",
      "metadata": {
        "id": "zG88ePePjGun",
        "colab": {
          "base_uri": "https://localhost:8080/"
        },
        "outputId": "4db8ab91-9e7f-493f-fbdd-f0599e974c3b"
      },
      "source": [
        "customers1 = shoes_df1.select([\"customer_id\"]).groupby(\"customer_id\").agg({\"customer_id\":\"count\"})\n",
        "customers1.show()"
      ],
      "execution_count": 12,
      "outputs": [
        {
          "output_type": "stream",
          "name": "stdout",
          "text": [
            "+-----------+------------------+\n",
            "|customer_id|count(customer_id)|\n",
            "+-----------+------------------+\n",
            "|   32605012|                 2|\n",
            "|    7458575|                 1|\n",
            "|   33739415|                22|\n",
            "|   52884959|                 3|\n",
            "|   18141648|                 1|\n",
            "|    6057103|                 4|\n",
            "|   10805992|                 1|\n",
            "|   50621360|                 2|\n",
            "|   35465009|                 1|\n",
            "|    2784934|                34|\n",
            "|   48396961|                 1|\n",
            "|    2456076|                 1|\n",
            "|   22163038|                 1|\n",
            "|   11831977|                 1|\n",
            "|    1513544|                 1|\n",
            "|   17861769|                 3|\n",
            "|   42909294|                 6|\n",
            "|   23947515|                27|\n",
            "|    1446779|                 1|\n",
            "|   11224924|                 1|\n",
            "+-----------+------------------+\n",
            "only showing top 20 rows\n",
            "\n"
          ]
        }
      ]
    },
    {
      "cell_type": "code",
      "metadata": {
        "id": "zStPditEn5jC",
        "colab": {
          "base_uri": "https://localhost:8080/"
        },
        "outputId": "24f3aa32-665e-4049-dece-e1f4341ca977"
      },
      "source": [
        "customers = customers1.withColumnRenamed(\"count(customer_id)\", \"customer_count\")\n",
        "customers.show()"
      ],
      "execution_count": 13,
      "outputs": [
        {
          "output_type": "stream",
          "name": "stdout",
          "text": [
            "+-----------+--------------+\n",
            "|customer_id|customer_count|\n",
            "+-----------+--------------+\n",
            "|   32605012|             2|\n",
            "|    7458575|             1|\n",
            "|   33739415|            22|\n",
            "|   52884959|             3|\n",
            "|   18141648|             1|\n",
            "|    6057103|             4|\n",
            "|   10805992|             1|\n",
            "|   50621360|             2|\n",
            "|   35465009|             1|\n",
            "|    2784934|            34|\n",
            "|   48396961|             1|\n",
            "|    2456076|             1|\n",
            "|   22163038|             1|\n",
            "|   11831977|             1|\n",
            "|    1513544|             1|\n",
            "|   17861769|             3|\n",
            "|   42909294|             6|\n",
            "|   23947515|            27|\n",
            "|    1446779|             1|\n",
            "|   11224924|             1|\n",
            "+-----------+--------------+\n",
            "only showing top 20 rows\n",
            "\n"
          ]
        }
      ]
    },
    {
      "cell_type": "code",
      "metadata": {
        "id": "Vrb0CFHYk26U",
        "colab": {
          "base_uri": "https://localhost:8080/"
        },
        "outputId": "848f5299-2730-486c-97b2-a04a34706cfe"
      },
      "source": [
        "vine_table = shoes_df1.select(\"review_id\", \"star_rating\", \"helpful_votes\", \"total_votes\", \"vine\")\n",
        "vine_table.show()"
      ],
      "execution_count": 14,
      "outputs": [
        {
          "output_type": "stream",
          "name": "stdout",
          "text": [
            "+--------------+-----------+-------------+-----------+----+\n",
            "|     review_id|star_rating|helpful_votes|total_votes|vine|\n",
            "+--------------+-----------+-------------+-----------+----+\n",
            "|R1000E0AHJ5E1V|          4|            0|          0|   N|\n",
            "|R100A5CHCA9GMG|          1|            2|          2|   N|\n",
            "|R100A968SZR4GH|          5|            0|          0|   N|\n",
            "|R100HVIG9VEABL|          5|            1|          1|   N|\n",
            "|R100ZMBT0DGFFH|          5|            8|         10|   N|\n",
            "|R101BSLZ8K12T6|          5|            0|          1|   N|\n",
            "|R101I5DOJAUSZ7|          4|            0|          0|   N|\n",
            "|R101VVQ9LXBADV|          5|            1|          1|   N|\n",
            "|R101VY19JHVABI|          4|            0|          0|   N|\n",
            "|R1026R3QQEM02Q|          5|            0|          0|   N|\n",
            "|R102IW3CHZL3F4|          5|            0|          0|   N|\n",
            "|R102JNG6P6AHY7|          5|            0|          0|   N|\n",
            "|R102X52FTDKNGJ|          4|            0|          0|   N|\n",
            "|R10330PL0P9BSY|          4|            0|          0|   N|\n",
            "|R10344J7GD2XPS|          5|            0|          0|   N|\n",
            "|R103HFRKS7OKCL|          2|            0|          0|   N|\n",
            "|R103LSHIXS0HR7|          4|            0|          0|   N|\n",
            "|R103PNMOO7Y7MV|          5|            0|          0|   N|\n",
            "|R1044V6AE4VQP4|          1|            1|          1|   N|\n",
            "|R1045O9YS6DARS|          4|            1|          2|   N|\n",
            "+--------------+-----------+-------------+-----------+----+\n",
            "only showing top 20 rows\n",
            "\n"
          ]
        }
      ]
    },
    {
      "cell_type": "markdown",
      "metadata": {
        "id": "SW58Z1hnpmm9"
      },
      "source": [
        "Write DataFrame to RDS"
      ]
    },
    {
      "cell_type": "code",
      "metadata": {
        "id": "oVxF9GdElvpv"
      },
      "source": [
        "# Configuration for RDS instance\n",
        "mode=\"append\"\n",
        "jdbc_url = \"jdbc:postgresql://<rds endpoint>:5432/databasename\"\n",
        "config = {\"user\":\"root\",\n",
        "          \"password\": \"password\",\n",
        "          \"driver\":\"org.postgresql.Driver\"}"
      ],
      "execution_count": 15,
      "outputs": []
    },
    {
      "cell_type": "code",
      "metadata": {
        "id": "HZyAOT2Up-PR"
      },
      "source": [
        "# Write DataFrame to table\n",
        "\n",
        "review_id_table.write.jdbc(url=jdbc_url, table='review_id_table_shoes', mode=mode, properties=config)"
      ],
      "execution_count": 16,
      "outputs": []
    },
    {
      "cell_type": "code",
      "metadata": {
        "id": "Tb-mBIihqIOp"
      },
      "source": [
        "# Write DataFrame to table\n",
        "\n",
        "products.write.jdbc(url=jdbc_url, table='products_shoes', mode=mode, properties=config)"
      ],
      "execution_count": 17,
      "outputs": []
    },
    {
      "cell_type": "code",
      "metadata": {
        "id": "T_V_QDeKqPpr"
      },
      "source": [
        "# Write DataFrame to table\n",
        "\n",
        "customers.write.jdbc(url=jdbc_url, table='customers_shoes', mode=mode, properties=config)"
      ],
      "execution_count": 18,
      "outputs": []
    },
    {
      "cell_type": "code",
      "metadata": {
        "id": "cBP5YblOqTFk"
      },
      "source": [
        "# Write DataFrame to table\n",
        "\n",
        "vine_table.write.jdbc(url=jdbc_url, table='vine_table_shoes', mode=mode, properties=config)"
      ],
      "execution_count": 19,
      "outputs": []
    }
  ]
}