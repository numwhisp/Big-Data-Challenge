{
  "nbformat": 4,
  "nbformat_minor": 0,
  "metadata": {
    "colab": {
      "name": "Apparel.ipynb",
      "provenance": [],
      "collapsed_sections": []
    },
    "kernelspec": {
      "name": "python3",
      "display_name": "Python 3"
    },
    "language_info": {
      "name": "python"
    }
  },
  "cells": [
    {
      "cell_type": "code",
      "metadata": {
        "colab": {
          "base_uri": "https://localhost:8080/"
        },
        "id": "7m6cYm1ZRpVs",
        "outputId": "05e72b94-76c2-49e4-e04b-7cf532ebb2df"
      },
      "source": [
        "import os\n",
        "# Find the latest version of spark 3.0  from http://www.apache.org/dist/spark/ and enter as the spark version\n",
        "# For example:\n",
        "# spark_version = 'spark-3.0.3'\n",
        "spark_version = 'spark-3.2.0'\n",
        "os.environ['SPARK_VERSION']=spark_version\n",
        "\n",
        "# Install Spark and Java\n",
        "!apt-get update\n",
        "!apt-get install openjdk-8-jdk-headless -qq > /dev/null\n",
        "!wget -q http://www.apache.org/dist/spark/$SPARK_VERSION/$SPARK_VERSION-bin-hadoop2.7.tgz\n",
        "!tar xf $SPARK_VERSION-bin-hadoop2.7.tgz\n",
        "!pip install -q findspark\n",
        "\n",
        "# Set Environment Variables\n",
        "os.environ[\"JAVA_HOME\"] = \"/usr/lib/jvm/java-8-openjdk-amd64\"\n",
        "os.environ[\"SPARK_HOME\"] = f\"/content/{spark_version}-bin-hadoop2.7\"\n",
        "\n",
        "# Start a SparkSession\n",
        "import findspark\n",
        "findspark.init()"
      ],
      "execution_count": 1,
      "outputs": [
        {
          "output_type": "stream",
          "name": "stdout",
          "text": [
            "Get:1 https://cloud.r-project.org/bin/linux/ubuntu bionic-cran40/ InRelease [3,626 B]\n",
            "Ign:2 https://developer.download.nvidia.com/compute/cuda/repos/ubuntu1804/x86_64  InRelease\n",
            "Get:3 http://ppa.launchpad.net/c2d4u.team/c2d4u4.0+/ubuntu bionic InRelease [15.9 kB]\n",
            "Get:4 http://security.ubuntu.com/ubuntu bionic-security InRelease [88.7 kB]\n",
            "Hit:5 http://archive.ubuntu.com/ubuntu bionic InRelease\n",
            "Ign:6 https://developer.download.nvidia.com/compute/machine-learning/repos/ubuntu1804/x86_64  InRelease\n",
            "Hit:7 https://developer.download.nvidia.com/compute/cuda/repos/ubuntu1804/x86_64  Release\n",
            "Hit:8 https://developer.download.nvidia.com/compute/machine-learning/repos/ubuntu1804/x86_64  Release\n",
            "Get:9 http://archive.ubuntu.com/ubuntu bionic-updates InRelease [88.7 kB]\n",
            "Hit:10 http://ppa.launchpad.net/cran/libgit2/ubuntu bionic InRelease\n",
            "Get:11 http://archive.ubuntu.com/ubuntu bionic-backports InRelease [74.6 kB]\n",
            "Hit:12 http://ppa.launchpad.net/deadsnakes/ppa/ubuntu bionic InRelease\n",
            "Hit:13 http://ppa.launchpad.net/graphics-drivers/ppa/ubuntu bionic InRelease\n",
            "Get:16 http://ppa.launchpad.net/c2d4u.team/c2d4u4.0+/ubuntu bionic/main Sources [1,812 kB]\n",
            "Get:17 http://ppa.launchpad.net/c2d4u.team/c2d4u4.0+/ubuntu bionic/main amd64 Packages [928 kB]\n",
            "Get:18 http://archive.ubuntu.com/ubuntu bionic-updates/main amd64 Packages [2,867 kB]\n",
            "Fetched 5,878 kB in 5s (1,189 kB/s)\n",
            "Reading package lists... Done\n"
          ]
        }
      ]
    },
    {
      "cell_type": "code",
      "metadata": {
        "colab": {
          "base_uri": "https://localhost:8080/"
        },
        "id": "pzFKH1m4R8bu",
        "outputId": "85668302-97a8-41e5-8740-0881eb4ba0ba"
      },
      "source": [
        "!wget https://jdbc.postgresql.org/download/postgresql-42.2.9.jar"
      ],
      "execution_count": 2,
      "outputs": [
        {
          "output_type": "stream",
          "name": "stdout",
          "text": [
            "--2021-11-22 01:34:51--  https://jdbc.postgresql.org/download/postgresql-42.2.9.jar\n",
            "Resolving jdbc.postgresql.org (jdbc.postgresql.org)... 72.32.157.228, 2001:4800:3e1:1::228\n",
            "Connecting to jdbc.postgresql.org (jdbc.postgresql.org)|72.32.157.228|:443... connected.\n",
            "HTTP request sent, awaiting response... 200 OK\n",
            "Length: 914037 (893K) [application/java-archive]\n",
            "Saving to: ‘postgresql-42.2.9.jar’\n",
            "\n",
            "postgresql-42.2.9.j 100%[===================>] 892.61K  --.-KB/s    in 0.1s    \n",
            "\n",
            "2021-11-22 01:34:51 (6.01 MB/s) - ‘postgresql-42.2.9.jar’ saved [914037/914037]\n",
            "\n"
          ]
        }
      ]
    },
    {
      "cell_type": "code",
      "metadata": {
        "id": "X-R5ZZ55SB5X"
      },
      "source": [
        "from pyspark.sql import SparkSession\n",
        "spark = SparkSession.builder.appName(\"CloudETL\").config(\"spark.driver.extraClassPath\",\"/content/postgresql-42.2.9.jar\").getOrCreate()"
      ],
      "execution_count": 3,
      "outputs": []
    },
    {
      "cell_type": "code",
      "metadata": {
        "colab": {
          "base_uri": "https://localhost:8080/"
        },
        "id": "YataH1_CSZYZ",
        "outputId": "2e88303e-30c4-4048-f24c-29e03ea53053"
      },
      "source": [
        "from pyspark import SparkFiles\n",
        "# Load in Apparel data from s3.amazonaws.com into a DataFrame\n",
        "url = \"https://s3.amazonaws.com/amazon-reviews-pds/tsv/amazon_reviews_us_Apparel_v1_00.tsv.gz\"\n",
        "spark.sparkContext.addFile(url)\n",
        "\n",
        "apparel_df = spark.read.option('header', 'true').csv(SparkFiles.get(\"amazon_reviews_us_Apparel_v1_00.tsv.gz\"), inferSchema=True, sep=\"\\t\", timestampFormat=\"mm/dd/yy\")\n",
        "apparel_df.show(10)"
      ],
      "execution_count": 7,
      "outputs": [
        {
          "output_type": "stream",
          "name": "stdout",
          "text": [
            "+-----------+-----------+--------------+----------+--------------+--------------------+----------------+-----------+-------------+-----------+----+-----------------+--------------------+--------------------+-----------+\n",
            "|marketplace|customer_id|     review_id|product_id|product_parent|       product_title|product_category|star_rating|helpful_votes|total_votes|vine|verified_purchase|     review_headline|         review_body|review_date|\n",
            "+-----------+-----------+--------------+----------+--------------+--------------------+----------------+-----------+-------------+-----------+----+-----------------+--------------------+--------------------+-----------+\n",
            "|         US|   32158956|R1KKOXHNI8MSXU|B01KL6O72Y|      24485154|Easy Tool Stainle...|         Apparel|          4|            0|          0|   N|                Y|★ THESE REALLY DO...|These Really Do W...| 2013-01-14|\n",
            "|         US|    2714559|R26SP2OPDK4HT7|B01ID3ZS5W|     363128556|V28 Women Cowl Ne...|         Apparel|          5|            1|          2|   N|                Y|Favorite for wint...|I love this dress...| 2014-03-04|\n",
            "|         US|   12608825| RWQEDYAX373I1|B01I497BGY|     811958549|James Fiallo Men'...|         Apparel|          5|            0|          0|   N|                Y|Great Socks for t...|Nice socks, great...| 2015-07-12|\n",
            "|         US|   25482800|R231YI7R4GPF6J|B01HDXFZK6|     692205728|Belfry Gangster 1...|         Apparel|          5|            0|          0|   N|                Y|          Slick hat!|I bought this for...| 2015-06-03|\n",
            "|         US|    9310286|R3KO3W45DD0L1K|B01G6MBEBY|     431150422|JAEDEN Women's Be...|         Apparel|          5|            0|          0|   N|                Y|I would do it again!|Perfect dress and...| 2015-06-12|\n",
            "|         US|   26631939|R1C4QH63NFL5NJ|B01FWRXN0Y|     366144407|Levi's Boys' 514 ...|         Apparel|          5|            0|          0|   N|                Y|          Five Stars|Excellent for my ...| 2014-04-22|\n",
            "|         US|   48785098|R2GP65O1U9N7BP|B01EXNH1HE|     786052021|Minimalist Wallet...|         Apparel|          5|            0|          0|   N|                Y|            Love it!|Raw is the only w...| 2015-07-28|\n",
            "|         US|   39548589|R3O29CT5MQQ3XQ|B01E7OL09O|     108920964|Harriton Men's Ba...|         Apparel|          4|            0|          0|   N|                Y|         Three Stars|        A bit large.| 2015-07-10|\n",
            "|         US|   29355866|R1ZECD2AA8QFF6|B01DXHX81O|     317132458|Jockey Women's Un...|         Apparel|          5|            0|          0|   N|                Y|          Five Stars|          Great fit!| 2015-08-09|\n",
            "|         US|   27477484|R2S79GCF6J89OA|B01DDULIJK|     110598191|Alexander Del Ros...|         Apparel|          3|            0|          0|   N|                Y|    Not my favorite.|Shirt a bit too l...| 2014-05-24|\n",
            "+-----------+-----------+--------------+----------+--------------+--------------------+----------------+-----------+-------------+-----------+----+-----------------+--------------------+--------------------+-----------+\n",
            "only showing top 10 rows\n",
            "\n"
          ]
        }
      ]
    },
    {
      "cell_type": "code",
      "metadata": {
        "colab": {
          "base_uri": "https://localhost:8080/"
        },
        "id": "92Icjv-PU86L",
        "outputId": "8d5fcbd1-8932-46f3-c973-bdcf6835d7da"
      },
      "source": [
        "#count rows\n",
        "print(apparel_df.count())\n"
      ],
      "execution_count": 8,
      "outputs": [
        {
          "output_type": "stream",
          "name": "stdout",
          "text": [
            "5906333\n"
          ]
        }
      ]
    },
    {
      "cell_type": "code",
      "metadata": {
        "colab": {
          "base_uri": "https://localhost:8080/"
        },
        "id": "lL_l3OAyVVsy",
        "outputId": "821436fc-d065-4fd3-f229-1db7ea308c89"
      },
      "source": [
        "#drop incomplete rows\n",
        "apparel_df = apparel_df.dropna()\n",
        "print(apparel_df.count())"
      ],
      "execution_count": 9,
      "outputs": [
        {
          "output_type": "stream",
          "name": "stdout",
          "text": [
            "5905269\n"
          ]
        }
      ]
    },
    {
      "cell_type": "code",
      "metadata": {
        "colab": {
          "base_uri": "https://localhost:8080/"
        },
        "id": "mXA-vpmGVNM8",
        "outputId": "39ed5c95-8ecf-4078-e0c1-e60b056db6c1"
      },
      "source": [
        "#drop duplicates\n",
        "apparel_df = apparel_df.dropDuplicates()\n",
        "#show total counts of Apparel reviews data after dropping duplicates and incomplete rows\n",
        "print(apparel_df.count())\n"
      ],
      "execution_count": 10,
      "outputs": [
        {
          "output_type": "stream",
          "name": "stdout",
          "text": [
            "5905269\n"
          ]
        }
      ]
    },
    {
      "cell_type": "code",
      "metadata": {
        "colab": {
          "base_uri": "https://localhost:8080/"
        },
        "id": "4Jn2DEZMWSoE",
        "outputId": "376cbbd6-35c9-4d6d-9676-1b545f8ee3a4"
      },
      "source": [
        "apparel_df.printSchema()"
      ],
      "execution_count": 11,
      "outputs": [
        {
          "output_type": "stream",
          "name": "stdout",
          "text": [
            "root\n",
            " |-- marketplace: string (nullable = true)\n",
            " |-- customer_id: integer (nullable = true)\n",
            " |-- review_id: string (nullable = true)\n",
            " |-- product_id: string (nullable = true)\n",
            " |-- product_parent: integer (nullable = true)\n",
            " |-- product_title: string (nullable = true)\n",
            " |-- product_category: string (nullable = true)\n",
            " |-- star_rating: integer (nullable = true)\n",
            " |-- helpful_votes: integer (nullable = true)\n",
            " |-- total_votes: integer (nullable = true)\n",
            " |-- vine: string (nullable = true)\n",
            " |-- verified_purchase: string (nullable = true)\n",
            " |-- review_headline: string (nullable = true)\n",
            " |-- review_body: string (nullable = true)\n",
            " |-- review_date: string (nullable = true)\n",
            "\n"
          ]
        }
      ]
    },
    {
      "cell_type": "markdown",
      "metadata": {
        "id": "tcZwzYK1XKED"
      },
      "source": [
        "Transform DataFrame to Table Schema"
      ]
    },
    {
      "cell_type": "code",
      "metadata": {
        "colab": {
          "base_uri": "https://localhost:8080/"
        },
        "id": "rgV9gNkGgcin",
        "outputId": "44d779eb-5735-4468-c739-f3d2e4a31b57"
      },
      "source": [
        "# Converting review_date column from string to date \n",
        "from pyspark.sql.functions import to_date\n",
        " \n",
        "apparel_df1 = apparel_df.withColumn('review_date',to_date(apparel_df.review_date, 'yyyy-MM-dd'))\n",
        "apparel_df1.printSchema()\n",
        "apparel_df1.select(\"review_date\").dtypes"
      ],
      "execution_count": 19,
      "outputs": [
        {
          "output_type": "stream",
          "name": "stdout",
          "text": [
            "root\n",
            " |-- marketplace: string (nullable = true)\n",
            " |-- customer_id: integer (nullable = true)\n",
            " |-- review_id: string (nullable = true)\n",
            " |-- product_id: string (nullable = true)\n",
            " |-- product_parent: integer (nullable = true)\n",
            " |-- product_title: string (nullable = true)\n",
            " |-- product_category: string (nullable = true)\n",
            " |-- star_rating: integer (nullable = true)\n",
            " |-- helpful_votes: integer (nullable = true)\n",
            " |-- total_votes: integer (nullable = true)\n",
            " |-- vine: string (nullable = true)\n",
            " |-- verified_purchase: string (nullable = true)\n",
            " |-- review_headline: string (nullable = true)\n",
            " |-- review_body: string (nullable = true)\n",
            " |-- review_date: date (nullable = true)\n",
            "\n"
          ]
        },
        {
          "output_type": "execute_result",
          "data": {
            "text/plain": [
              "[('review_date', 'date')]"
            ]
          },
          "metadata": {},
          "execution_count": 19
        }
      ]
    },
    {
      "cell_type": "code",
      "metadata": {
        "colab": {
          "base_uri": "https://localhost:8080/"
        },
        "id": "-TJRjJ07TuCR",
        "outputId": "3c5fecb2-2254-4f0b-a637-19c02aa11aa0"
      },
      "source": [
        "review_id_table = apparel_df1.select([\"review_id\",\"customer_id\",\"product_id\",\"product_parent\", \"review_date\"])\n",
        "review_id_table.show()"
      ],
      "execution_count": 24,
      "outputs": [
        {
          "output_type": "stream",
          "name": "stdout",
          "text": [
            "+--------------+-----------+----------+--------------+-----------+\n",
            "|     review_id|customer_id|product_id|product_parent|review_date|\n",
            "+--------------+-----------+----------+--------------+-----------+\n",
            "|R1000LG8H70CNQ|     696306|B00O3A0RHY|     246430568| 2015-01-25|\n",
            "|R100BCEUAIHZQC|   11807812|B00CASTERA|     600575877| 2014-06-03|\n",
            "|R100EOB2GC5UYQ|   15017601|B002MLE36W|     988639002| 2014-10-26|\n",
            "|R100MYSZIXWX1D|   44291413|B007HSEDVK|        174345| 2012-10-31|\n",
            "|R100UMGHMFVXKC|   24539177|B00F52CUCE|     162326772| 2014-03-18|\n",
            "|R101CJDLDDM19P|   10041263|B00NIX31K2|     559380483| 2014-12-16|\n",
            "|R101OE6ZEL1A52|   20521864|B00CB1S40E|     248821115| 2014-02-08|\n",
            "| R101PL938YJV0|   44457530|B00AF7D7VC|     656221590| 2013-11-14|\n",
            "|R101QMSD2TQTAP|   14103889|B00N9KGZWA|     906968721| 2015-04-30|\n",
            "|R101V43VD0FQ5Y|   23446176|B007WPF25E|     619910868| 2013-07-01|\n",
            "|R102HAEXYCF1YM|   20169548|B00DECZ2KE|     913386738| 2014-02-09|\n",
            "|R102KCQDXFRN3E|   18522476|B000092MPB|     673568662| 2006-06-08|\n",
            "|R102QMA01NZA6Z|   14009089|B00CFET4Y2|     819209887| 2015-05-21|\n",
            "|R102S2K1PLWHI0|   22997491|B00O3MJRRS|     286762761| 2015-01-02|\n",
            "|R103080IHUKPRV|   45763066|B003N63ET2|      14088292| 2014-12-30|\n",
            "|R10322YN4Y2ZIS|   23761922|B00IQ72SVS|     531477330| 2015-03-06|\n",
            "|R1036BA3K3XKSG|   12065541|B004BLAC0M|     517341322| 2014-07-24|\n",
            "|R1037JYOCJECEP|   46727318|B00EY9QS9U|     356894548| 2014-12-11|\n",
            "|R10383R7SBPU7N|   17661088|B00CBKJN64|     362418742| 2014-07-14|\n",
            "|R1038635B0E6RJ|    7174285|B00MUGCZA0|     249262209| 2015-03-11|\n",
            "+--------------+-----------+----------+--------------+-----------+\n",
            "only showing top 20 rows\n",
            "\n"
          ]
        }
      ]
    },
    {
      "cell_type": "code",
      "metadata": {
        "colab": {
          "base_uri": "https://localhost:8080/"
        },
        "id": "mJ1EfpvEiXop",
        "outputId": "60cdce11-5984-4260-ec23-2a7e8e4f4612"
      },
      "source": [
        "products = apparel_df1.select([\"product_id\",\"product_title\"])\n",
        "products.show()"
      ],
      "execution_count": 25,
      "outputs": [
        {
          "output_type": "stream",
          "name": "stdout",
          "text": [
            "+----------+--------------------+\n",
            "|product_id|       product_title|\n",
            "+----------+--------------------+\n",
            "|B00O3A0RHY|Giant Panda Face ...|\n",
            "|B00CASTERA|  Rothco Jungle Hats|\n",
            "|B002MLE36W|Leg Avenue Women'...|\n",
            "|B007HSEDVK|LAST KISS Ombré W...|\n",
            "|B00F52CUCE|Magiftbox Men's S...|\n",
            "|B00NIX31K2|ROEWELL® 4 Sets o...|\n",
            "|B00CB1S40E|Valco Baby Snap4 ...|\n",
            "|B00AF7D7VC|Louis Raphael ROS...|\n",
            "|B00N9KGZWA|Women`s Push Up T...|\n",
            "|B007WPF25E|Kangol Men's Josh...|\n",
            "|B00DECZ2KE|London Times Wome...|\n",
            "|B000092MPB|      Zip-front suit|\n",
            "|B00CFET4Y2|Kanu Surf Men's C...|\n",
            "|B00O3MJRRS|Modern Minute - N...|\n",
            "|B003N63ET2|Champion Women's ...|\n",
            "|B00IQ72SVS|Lg Dk. Green Semi...|\n",
            "|B004BLAC0M|World's Softest M...|\n",
            "|B00EY9QS9U|Zeagoo Women's Ch...|\n",
            "|B00CBKJN64|The Beatles - Gre...|\n",
            "|B00MUGCZA0|Inktastic - Red F...|\n",
            "+----------+--------------------+\n",
            "only showing top 20 rows\n",
            "\n"
          ]
        }
      ]
    },
    {
      "cell_type": "code",
      "metadata": {
        "colab": {
          "base_uri": "https://localhost:8080/"
        },
        "id": "zG88ePePjGun",
        "outputId": "ec27cebf-d22c-4e7c-9b78-c7bb338ca2c4"
      },
      "source": [
        "customers1 = apparel_df1.select([\"customer_id\"]).groupby(\"customer_id\").agg({\"customer_id\":\"count\"})\n",
        "customers1.show()"
      ],
      "execution_count": 33,
      "outputs": [
        {
          "output_type": "stream",
          "name": "stdout",
          "text": [
            "+-----------+------------------+\n",
            "|customer_id|count(customer_id)|\n",
            "+-----------+------------------+\n",
            "|   12955905|                 5|\n",
            "|    3909801|                 1|\n",
            "|   17063052|                 1|\n",
            "|   13245107|                 1|\n",
            "|   15149043|                 5|\n",
            "|    5137716|                 1|\n",
            "|   42673458|                23|\n",
            "|   15476378|                 1|\n",
            "|   11615457|                 1|\n",
            "|   52209445|                 2|\n",
            "|   47277612|                18|\n",
            "|     481101|                 1|\n",
            "|    3207957|                 2|\n",
            "|   20874267|                 3|\n",
            "|   21580335|                 2|\n",
            "|    4843304|                26|\n",
            "|   36715887|                 2|\n",
            "|    4416285|                18|\n",
            "|   31663336|                 7|\n",
            "|   15296593|                 2|\n",
            "+-----------+------------------+\n",
            "only showing top 20 rows\n",
            "\n"
          ]
        }
      ]
    },
    {
      "cell_type": "code",
      "metadata": {
        "colab": {
          "base_uri": "https://localhost:8080/"
        },
        "id": "zStPditEn5jC",
        "outputId": "cd2654e5-2819-4a97-a085-4ff1d0d0bc10"
      },
      "source": [
        "customers = customers1.withColumnRenamed(\"count(customer_id)\", \"customer_count\")\n",
        "customers.show()"
      ],
      "execution_count": 35,
      "outputs": [
        {
          "output_type": "stream",
          "name": "stdout",
          "text": [
            "+-----------+--------------+\n",
            "|customer_id|customer_count|\n",
            "+-----------+--------------+\n",
            "|   12955905|             5|\n",
            "|    3909801|             1|\n",
            "|   17063052|             1|\n",
            "|   13245107|             1|\n",
            "|   15149043|             5|\n",
            "|    5137716|             1|\n",
            "|   42673458|            23|\n",
            "|   15476378|             1|\n",
            "|   11615457|             1|\n",
            "|   52209445|             2|\n",
            "|   47277612|            18|\n",
            "|     481101|             1|\n",
            "|    3207957|             2|\n",
            "|   20874267|             3|\n",
            "|   21580335|             2|\n",
            "|    4843304|            26|\n",
            "|   36715887|             2|\n",
            "|    4416285|            18|\n",
            "|   31663336|             7|\n",
            "|   15296593|             2|\n",
            "+-----------+--------------+\n",
            "only showing top 20 rows\n",
            "\n"
          ]
        }
      ]
    },
    {
      "cell_type": "code",
      "metadata": {
        "colab": {
          "base_uri": "https://localhost:8080/"
        },
        "id": "Vrb0CFHYk26U",
        "outputId": "689eb31c-0ead-4396-c878-2746285373da"
      },
      "source": [
        "vine_table = apparel_df1.select(\"review_id\", \"star_rating\", \"helpful_votes\", \"total_votes\", \"vine\")\n",
        "vine_table.show()"
      ],
      "execution_count": 37,
      "outputs": [
        {
          "output_type": "stream",
          "name": "stdout",
          "text": [
            "+--------------+-----------+-------------+-----------+----+\n",
            "|     review_id|star_rating|helpful_votes|total_votes|vine|\n",
            "+--------------+-----------+-------------+-----------+----+\n",
            "|R1000LG8H70CNQ|          5|            1|          1|   N|\n",
            "|R100BCEUAIHZQC|          5|            0|          0|   N|\n",
            "|R100EOB2GC5UYQ|          4|            0|          0|   N|\n",
            "|R100MYSZIXWX1D|          2|            0|          0|   N|\n",
            "|R100UMGHMFVXKC|          5|            0|          1|   N|\n",
            "|R101CJDLDDM19P|          5|            0|          1|   N|\n",
            "|R101OE6ZEL1A52|          5|            0|          1|   N|\n",
            "| R101PL938YJV0|          5|            0|          0|   N|\n",
            "|R101QMSD2TQTAP|          5|            0|          1|   N|\n",
            "|R101V43VD0FQ5Y|          4|            1|          1|   N|\n",
            "|R102HAEXYCF1YM|          5|            0|          0|   N|\n",
            "|R102KCQDXFRN3E|          2|            1|          1|   N|\n",
            "|R102QMA01NZA6Z|          5|            0|          0|   N|\n",
            "|R102S2K1PLWHI0|          4|            0|          0|   N|\n",
            "|R103080IHUKPRV|          5|            0|          0|   N|\n",
            "|R10322YN4Y2ZIS|          5|            0|          0|   N|\n",
            "|R1036BA3K3XKSG|          4|            0|          0|   N|\n",
            "|R1037JYOCJECEP|          2|            0|          0|   N|\n",
            "|R10383R7SBPU7N|          5|            0|          0|   N|\n",
            "|R1038635B0E6RJ|          5|            0|          0|   N|\n",
            "+--------------+-----------+-------------+-----------+----+\n",
            "only showing top 20 rows\n",
            "\n"
          ]
        }
      ]
    },
    {
      "cell_type": "markdown",
      "metadata": {
        "id": "SW58Z1hnpmm9"
      },
      "source": [
        "Write DataFrame to RDS"
      ]
    },
    {
      "cell_type": "code",
      "metadata": {
        "id": "oVxF9GdElvpv"
      },
      "source": [
        "# Configuration for RDS instance\n",
        "mode=\"append\"\n",
        "jdbc_url = \"jdbc:postgresql://<rds endpoint>:5432/databasename\"\n",
        "config = {\"user\":\"root\",\n",
        "          \"password\": \"password\",\n",
        "          \"driver\":\"org.postgresql.Driver\"}"
      ],
      "execution_count": 56,
      "outputs": []
    },
    {
      "cell_type": "code",
      "metadata": {
        "id": "HZyAOT2Up-PR"
      },
      "source": [
        "# Write DataFrame to table\n",
        "\n",
        "review_id_table.write.jdbc(url=jdbc_url, table='review_id_table', mode=mode, properties=config)"
      ],
      "execution_count": 57,
      "outputs": []
    },
    {
      "cell_type": "code",
      "metadata": {
        "id": "Tb-mBIihqIOp"
      },
      "source": [
        "# Write DataFrame to table\n",
        "\n",
        "products.write.jdbc(url=jdbc_url, table='products', mode=mode, properties=config)"
      ],
      "execution_count": 58,
      "outputs": []
    },
    {
      "cell_type": "code",
      "metadata": {
        "id": "T_V_QDeKqPpr"
      },
      "source": [
        "# Write DataFrame to table\n",
        "\n",
        "customers.write.jdbc(url=jdbc_url, table='customers', mode=mode, properties=config)"
      ],
      "execution_count": 59,
      "outputs": []
    },
    {
      "cell_type": "code",
      "metadata": {
        "id": "cBP5YblOqTFk"
      },
      "source": [
        "# Write DataFrame to table\n",
        "\n",
        "vine_table.write.jdbc(url=jdbc_url, table='vine_table', mode=mode, properties=config)"
      ],
      "execution_count": 60,
      "outputs": []
    }
  ]
}