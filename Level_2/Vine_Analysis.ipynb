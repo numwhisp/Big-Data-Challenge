{
  "nbformat": 4,
  "nbformat_minor": 0,
  "metadata": {
    "colab": {
      "name": "Vine_Analysis.ipynb",
      "provenance": [],
      "collapsed_sections": []
    },
    "kernelspec": {
      "name": "python3",
      "display_name": "Python 3"
    },
    "language_info": {
      "name": "python"
    }
  },
  "cells": [
    {
      "cell_type": "markdown",
      "metadata": {
        "id": "yGrE6B50tc2t"
      },
      "source": [
        "# **Analysis**\n",
        "\n",
        "Cloud ETL was carried on out analysis on Amazon's Apparel review dataset. Created a database instance in RDS and connected to postgres. Google Colab pyspark was used to load the dataset from amazon s3 bucket. A table called apparel_vine was successfully loaded to the rds database. The data was cleaned and analysis was carried to see if any bias exists in the Amazon vine program. \n",
        "\n",
        "From analysis, the Apparel review data shows 2,336 records of reviews from the vine program participants. This approximately 0.0004 percent of the total reviews in this data set. This in number elminates any for form of bias that may be associated with the Apparel data.\n",
        "\n",
        "Further analysis to determine how many five reviews are from customers in the vine program. This showed 74 five star ratings are from customers in the vine program.\n",
        "\n",
        "This notebook shows a indepth analysis of the Apparel review data set."
      ]
    },
    {
      "cell_type": "code",
      "metadata": {
        "colab": {
          "base_uri": "https://localhost:8080/"
        },
        "id": "sehyt7WiJFxK",
        "outputId": "b1c9bbab-6c4b-4d1f-df59-a2ed12d695c3"
      },
      "source": [
        "import os\n",
        "# Find the latest version of spark 3.0  from http://www.apache.org/dist/spark/ and enter as the spark version\n",
        "# For example:\n",
        "# spark_version = 'spark-3.0.3'\n",
        "spark_version = 'spark-3.2.0'\n",
        "os.environ['SPARK_VERSION']=spark_version\n",
        "\n",
        "# Install Spark and Java\n",
        "!apt-get update\n",
        "!apt-get install openjdk-8-jdk-headless -qq > /dev/null\n",
        "!wget -q http://www.apache.org/dist/spark/$SPARK_VERSION/$SPARK_VERSION-bin-hadoop2.7.tgz\n",
        "!tar xf $SPARK_VERSION-bin-hadoop2.7.tgz\n",
        "!pip install -q findspark\n",
        "\n",
        "# Set Environment Variables\n",
        "os.environ[\"JAVA_HOME\"] = \"/usr/lib/jvm/java-8-openjdk-amd64\"\n",
        "os.environ[\"SPARK_HOME\"] = f\"/content/{spark_version}-bin-hadoop2.7\"\n",
        "\n",
        "# Start a SparkSession\n",
        "import findspark\n",
        "findspark.init()"
      ],
      "execution_count": 1,
      "outputs": [
        {
          "output_type": "stream",
          "name": "stdout",
          "text": [
            "\r0% [Working]\r            \rGet:1 https://cloud.r-project.org/bin/linux/ubuntu bionic-cran40/ InRelease [3,626 B]\n",
            "\r0% [Connecting to archive.ubuntu.com] [Connecting to security.ubuntu.com (91.18\r0% [Connecting to archive.ubuntu.com] [Connecting to security.ubuntu.com (91.18\r0% [1 InRelease gpgv 3,626 B] [Connecting to archive.ubuntu.com] [Connecting to\r                                                                               \rIgn:2 https://developer.download.nvidia.com/compute/cuda/repos/ubuntu1804/x86_64  InRelease\n",
            "\r0% [1 InRelease gpgv 3,626 B] [Connecting to archive.ubuntu.com (91.189.88.142)\r                                                                               \rHit:3 http://ppa.launchpad.net/c2d4u.team/c2d4u4.0+/ubuntu bionic InRelease\n",
            "Get:4 http://security.ubuntu.com/ubuntu bionic-security InRelease [88.7 kB]\n",
            "Ign:5 https://developer.download.nvidia.com/compute/machine-learning/repos/ubuntu1804/x86_64  InRelease\n",
            "Hit:6 https://developer.download.nvidia.com/compute/cuda/repos/ubuntu1804/x86_64  Release\n",
            "Hit:7 https://developer.download.nvidia.com/compute/machine-learning/repos/ubuntu1804/x86_64  Release\n",
            "Hit:8 http://archive.ubuntu.com/ubuntu bionic InRelease\n",
            "Hit:9 http://ppa.launchpad.net/cran/libgit2/ubuntu bionic InRelease\n",
            "Get:10 http://archive.ubuntu.com/ubuntu bionic-updates InRelease [88.7 kB]\n",
            "Hit:11 http://ppa.launchpad.net/deadsnakes/ppa/ubuntu bionic InRelease\n",
            "Get:12 http://archive.ubuntu.com/ubuntu bionic-backports InRelease [74.6 kB]\n",
            "Hit:13 http://ppa.launchpad.net/graphics-drivers/ppa/ubuntu bionic InRelease\n",
            "Fetched 256 kB in 2s (111 kB/s)\n",
            "Reading package lists... Done\n"
          ]
        }
      ]
    },
    {
      "cell_type": "code",
      "metadata": {
        "colab": {
          "base_uri": "https://localhost:8080/"
        },
        "id": "n6YPSSjtJQhl",
        "outputId": "8729caef-9f7e-4e37-ef6d-cf5b515e24f2"
      },
      "source": [
        "!wget https://jdbc.postgresql.org/download/postgresql-42.2.9.jar"
      ],
      "execution_count": 2,
      "outputs": [
        {
          "output_type": "stream",
          "name": "stdout",
          "text": [
            "--2021-11-22 06:15:24--  https://jdbc.postgresql.org/download/postgresql-42.2.9.jar\n",
            "Resolving jdbc.postgresql.org (jdbc.postgresql.org)... 72.32.157.228, 2001:4800:3e1:1::228\n",
            "Connecting to jdbc.postgresql.org (jdbc.postgresql.org)|72.32.157.228|:443... connected.\n",
            "HTTP request sent, awaiting response... 200 OK\n",
            "Length: 914037 (893K) [application/java-archive]\n",
            "Saving to: ‘postgresql-42.2.9.jar.1’\n",
            "\n",
            "postgresql-42.2.9.j 100%[===================>] 892.61K  5.14MB/s    in 0.2s    \n",
            "\n",
            "2021-11-22 06:15:24 (5.14 MB/s) - ‘postgresql-42.2.9.jar.1’ saved [914037/914037]\n",
            "\n"
          ]
        }
      ]
    },
    {
      "cell_type": "code",
      "metadata": {
        "id": "GBKKrczYJdih"
      },
      "source": [
        "from pyspark.sql import SparkSession\n",
        "spark = SparkSession.builder.appName(\"CloudETL\").config(\"spark.driver.extraClassPath\",\"/content/postgresql-42.2.9.jar\").getOrCreate()"
      ],
      "execution_count": 3,
      "outputs": []
    },
    {
      "cell_type": "code",
      "metadata": {
        "colab": {
          "base_uri": "https://localhost:8080/"
        },
        "id": "vFTFrpLZJjjK",
        "outputId": "7f28369e-ab6c-4be2-b0ae-1d5cdca35ed3"
      },
      "source": [
        "from pyspark import SparkFiles\n",
        "# Load in Apparel data from s3.amazonaws.com into a DataFrame\n",
        "url = \"https://s3.amazonaws.com/amazon-reviews-pds/tsv/amazon_reviews_us_Apparel_v1_00.tsv.gz\"\n",
        "spark.sparkContext.addFile(url)\n",
        "\n",
        "apparel_df = spark.read.option('header', 'true').csv(SparkFiles.get(\"amazon_reviews_us_Apparel_v1_00.tsv.gz\"), inferSchema=True, sep=\"\\t\", timestampFormat=\"mm/dd/yy\")\n",
        "apparel_df.show(10)"
      ],
      "execution_count": 4,
      "outputs": [
        {
          "output_type": "stream",
          "name": "stdout",
          "text": [
            "+-----------+-----------+--------------+----------+--------------+--------------------+----------------+-----------+-------------+-----------+----+-----------------+--------------------+--------------------+-----------+\n",
            "|marketplace|customer_id|     review_id|product_id|product_parent|       product_title|product_category|star_rating|helpful_votes|total_votes|vine|verified_purchase|     review_headline|         review_body|review_date|\n",
            "+-----------+-----------+--------------+----------+--------------+--------------------+----------------+-----------+-------------+-----------+----+-----------------+--------------------+--------------------+-----------+\n",
            "|         US|   32158956|R1KKOXHNI8MSXU|B01KL6O72Y|      24485154|Easy Tool Stainle...|         Apparel|          4|            0|          0|   N|                Y|★ THESE REALLY DO...|These Really Do W...| 2013-01-14|\n",
            "|         US|    2714559|R26SP2OPDK4HT7|B01ID3ZS5W|     363128556|V28 Women Cowl Ne...|         Apparel|          5|            1|          2|   N|                Y|Favorite for wint...|I love this dress...| 2014-03-04|\n",
            "|         US|   12608825| RWQEDYAX373I1|B01I497BGY|     811958549|James Fiallo Men'...|         Apparel|          5|            0|          0|   N|                Y|Great Socks for t...|Nice socks, great...| 2015-07-12|\n",
            "|         US|   25482800|R231YI7R4GPF6J|B01HDXFZK6|     692205728|Belfry Gangster 1...|         Apparel|          5|            0|          0|   N|                Y|          Slick hat!|I bought this for...| 2015-06-03|\n",
            "|         US|    9310286|R3KO3W45DD0L1K|B01G6MBEBY|     431150422|JAEDEN Women's Be...|         Apparel|          5|            0|          0|   N|                Y|I would do it again!|Perfect dress and...| 2015-06-12|\n",
            "|         US|   26631939|R1C4QH63NFL5NJ|B01FWRXN0Y|     366144407|Levi's Boys' 514 ...|         Apparel|          5|            0|          0|   N|                Y|          Five Stars|Excellent for my ...| 2014-04-22|\n",
            "|         US|   48785098|R2GP65O1U9N7BP|B01EXNH1HE|     786052021|Minimalist Wallet...|         Apparel|          5|            0|          0|   N|                Y|            Love it!|Raw is the only w...| 2015-07-28|\n",
            "|         US|   39548589|R3O29CT5MQQ3XQ|B01E7OL09O|     108920964|Harriton Men's Ba...|         Apparel|          4|            0|          0|   N|                Y|         Three Stars|        A bit large.| 2015-07-10|\n",
            "|         US|   29355866|R1ZECD2AA8QFF6|B01DXHX81O|     317132458|Jockey Women's Un...|         Apparel|          5|            0|          0|   N|                Y|          Five Stars|          Great fit!| 2015-08-09|\n",
            "|         US|   27477484|R2S79GCF6J89OA|B01DDULIJK|     110598191|Alexander Del Ros...|         Apparel|          3|            0|          0|   N|                Y|    Not my favorite.|Shirt a bit too l...| 2014-05-24|\n",
            "+-----------+-----------+--------------+----------+--------------+--------------------+----------------+-----------+-------------+-----------+----+-----------------+--------------------+--------------------+-----------+\n",
            "only showing top 10 rows\n",
            "\n"
          ]
        }
      ]
    },
    {
      "cell_type": "code",
      "metadata": {
        "colab": {
          "base_uri": "https://localhost:8080/"
        },
        "id": "v8r-lSSQJrA4",
        "outputId": "d1edb250-a55c-4b55-92a9-22bbbb607652"
      },
      "source": [
        "#count rows\n",
        "print(apparel_df.count())\n"
      ],
      "execution_count": 5,
      "outputs": [
        {
          "output_type": "stream",
          "name": "stdout",
          "text": [
            "5906333\n"
          ]
        }
      ]
    },
    {
      "cell_type": "code",
      "metadata": {
        "colab": {
          "base_uri": "https://localhost:8080/"
        },
        "id": "Ekx7Fx8eJzUA",
        "outputId": "3c9c1cc0-4bc8-41fe-da44-437e0afd54a2"
      },
      "source": [
        "# Columns\n",
        "len(apparel_df.columns)"
      ],
      "execution_count": 6,
      "outputs": [
        {
          "output_type": "execute_result",
          "data": {
            "text/plain": [
              "15"
            ]
          },
          "metadata": {},
          "execution_count": 6
        }
      ]
    },
    {
      "cell_type": "code",
      "metadata": {
        "colab": {
          "base_uri": "https://localhost:8080/"
        },
        "id": "RIkPAm3kKH5N",
        "outputId": "3c92870e-fca6-444c-b398-c193a85259e9"
      },
      "source": [
        "#drop duplicates\n",
        "apparel_df = apparel_df.dropDuplicates()\n",
        "#show total counts of Apparel reviews data after dropping duplicates and incomplete rows\n",
        "print(apparel_df.count())"
      ],
      "execution_count": 7,
      "outputs": [
        {
          "output_type": "stream",
          "name": "stdout",
          "text": [
            "5906333\n"
          ]
        }
      ]
    },
    {
      "cell_type": "code",
      "metadata": {
        "colab": {
          "base_uri": "https://localhost:8080/"
        },
        "id": "46CBmk2cNPHa",
        "outputId": "27aa5f4d-e1de-4813-b82a-fcaaf52aacb6"
      },
      "source": [
        "apparel_df.printSchema()"
      ],
      "execution_count": 7,
      "outputs": [
        {
          "output_type": "stream",
          "name": "stdout",
          "text": [
            "root\n",
            " |-- marketplace: string (nullable = true)\n",
            " |-- customer_id: integer (nullable = true)\n",
            " |-- review_id: string (nullable = true)\n",
            " |-- product_id: string (nullable = true)\n",
            " |-- product_parent: integer (nullable = true)\n",
            " |-- product_title: string (nullable = true)\n",
            " |-- product_category: string (nullable = true)\n",
            " |-- star_rating: integer (nullable = true)\n",
            " |-- helpful_votes: integer (nullable = true)\n",
            " |-- total_votes: integer (nullable = true)\n",
            " |-- vine: string (nullable = true)\n",
            " |-- verified_purchase: string (nullable = true)\n",
            " |-- review_headline: string (nullable = true)\n",
            " |-- review_body: string (nullable = true)\n",
            " |-- review_date: string (nullable = true)\n",
            "\n"
          ]
        }
      ]
    },
    {
      "cell_type": "code",
      "metadata": {
        "colab": {
          "base_uri": "https://localhost:8080/"
        },
        "id": "qBh-qk1PNBnt",
        "outputId": "c572ff4a-6a0b-4e09-8c0e-3117c9fa2126"
      },
      "source": [
        "apparel = apparel_df.select([\"review_id\", \"product_title\", \"star_rating\", \"helpful_votes\", \"total_votes\", \"vine\", \"verified_purchase\"])\n",
        "apparel.show()"
      ],
      "execution_count": 8,
      "outputs": [
        {
          "output_type": "stream",
          "name": "stdout",
          "text": [
            "+--------------+--------------------+-----------+-------------+-----------+----+-----------------+\n",
            "|     review_id|       product_title|star_rating|helpful_votes|total_votes|vine|verified_purchase|\n",
            "+--------------+--------------------+-----------+-------------+-----------+----+-----------------+\n",
            "|R1KKOXHNI8MSXU|Easy Tool Stainle...|          4|            0|          0|   N|                Y|\n",
            "|R26SP2OPDK4HT7|V28 Women Cowl Ne...|          5|            1|          2|   N|                Y|\n",
            "| RWQEDYAX373I1|James Fiallo Men'...|          5|            0|          0|   N|                Y|\n",
            "|R231YI7R4GPF6J|Belfry Gangster 1...|          5|            0|          0|   N|                Y|\n",
            "|R3KO3W45DD0L1K|JAEDEN Women's Be...|          5|            0|          0|   N|                Y|\n",
            "|R1C4QH63NFL5NJ|Levi's Boys' 514 ...|          5|            0|          0|   N|                Y|\n",
            "|R2GP65O1U9N7BP|Minimalist Wallet...|          5|            0|          0|   N|                Y|\n",
            "|R3O29CT5MQQ3XQ|Harriton Men's Ba...|          4|            0|          0|   N|                Y|\n",
            "|R1ZECD2AA8QFF6|Jockey Women's Un...|          5|            0|          0|   N|                Y|\n",
            "|R2S79GCF6J89OA|Alexander Del Ros...|          3|            0|          0|   N|                Y|\n",
            "|R1CBCUGNP37MPK|Jockey Women's Un...|          5|            0|          0|   N|                Y|\n",
            "|R3NU4WUR5ZNV1V|Bali Passion For ...|          5|            0|          0|   N|                Y|\n",
            "|R32EPCJ3XF8LGE|Lilyette Women's ...|          5|            0|          0|   N|                Y|\n",
            "|R1XIBC6WQBW31M|Vanity Fair Women...|          5|            0|          0|   N|                Y|\n",
            "|R1P11MVDZ65LMH|Warner's Women's ...|          5|            0|          0|   N|                Y|\n",
            "|R1OJA3DJL0VDDK|Columbia Women's ...|          5|            0|          0|   N|                Y|\n",
            "|R1THWA5YRJLOOF|Robes King RK Cla...|          4|            0|          0|   N|                Y|\n",
            "| R738LCNRSJVXP|VIV Collection Be...|          5|            6|          7|   N|                Y|\n",
            "|R1N3Z13931J3O9|Fruit of the Loom...|          2|            0|          0|   N|                Y|\n",
            "|R1LBNTP7E8N89Z|Jockey Scrubs Wom...|          1|            0|          0|   N|                Y|\n",
            "+--------------+--------------------+-----------+-------------+-----------+----+-----------------+\n",
            "only showing top 20 rows\n",
            "\n"
          ]
        }
      ]
    },
    {
      "cell_type": "code",
      "metadata": {
        "id": "VMOvWjh0Um_h"
      },
      "source": [
        "# Configuration for RDS instance\n",
        "mode=\"append\"\n",
        "jdbc_url = \"jdbc:postgresql://<rds endpoint>:5432/databasename\"\n",
        "config = {\"user\":\"root\",\n",
        "          \"password\": \"password\",\n",
        "          \"driver\":\"org.postgresql.Driver\"}"
      ],
      "execution_count": 17,
      "outputs": []
    },
    {
      "cell_type": "code",
      "metadata": {
        "id": "6n7CKQVMUnYX"
      },
      "source": [
        "apparel.write.jdbc(url=jdbc_url, table='apparel_vine', mode=mode, properties=config)"
      ],
      "execution_count": 18,
      "outputs": []
    },
    {
      "cell_type": "code",
      "metadata": {
        "colab": {
          "base_uri": "https://localhost:8080/"
        },
        "id": "mdKa4JXIiJ8x",
        "outputId": "d2d54703-809b-494d-8094-1417d08c43b1"
      },
      "source": [
        "apparel1 = apparel.filter(apparel[\"vine\"] == \"Y\").count()\n",
        "print(apparel1)"
      ],
      "execution_count": 51,
      "outputs": [
        {
          "output_type": "stream",
          "name": "stdout",
          "text": [
            "2336\n"
          ]
        }
      ]
    },
    {
      "cell_type": "code",
      "metadata": {
        "colab": {
          "base_uri": "https://localhost:8080/"
        },
        "id": "GYMG2PiaiKIy",
        "outputId": "668f83a0-acfb-41aa-b019-668c36374c77"
      },
      "source": [
        "apparel1 = apparel.filter(apparel[\"vine\"] == \"Y\").show()"
      ],
      "execution_count": 52,
      "outputs": [
        {
          "output_type": "stream",
          "name": "stdout",
          "text": [
            "+--------------+--------------------+-----------+-------------+-----------+----+-----------------+\n",
            "|     review_id|       product_title|star_rating|helpful_votes|total_votes|vine|verified_purchase|\n",
            "+--------------+--------------------+-----------+-------------+-----------+----+-----------------+\n",
            "|R2S3OT2TGTNLRT|Genuine Little Gi...|          4|            1|          1|   Y|                N|\n",
            "| R1YUILMCVON7J|Genuine Little Gi...|          2|            1|          1|   Y|                N|\n",
            "| R2039OSLK2OAW|Genuine Little Gi...|          3|            1|          1|   Y|                N|\n",
            "| R8T7CLRNUA19L|Genuine Big Boys'...|          1|            1|          1|   Y|                N|\n",
            "|R1WBILU1035YWZ|Genuine Big Boys'...|          5|            7|          7|   Y|                N|\n",
            "|R1H4E9IG55K7DR|Genuine Big Boys'...|          4|            0|          0|   Y|                N|\n",
            "|R3BXABC3ONYY3X|Genuine Big Boys'...|          5|            1|          1|   Y|                N|\n",
            "|R387TVQPOH5F2X|Wrangler Boys' Au...|          5|            0|          0|   Y|                N|\n",
            "| RVY9XAKJGFR4G|Wrangler Boys' Au...|          5|            0|          0|   Y|                N|\n",
            "|R305RCRMTCDCSQ|Wrangler Boys' Au...|          5|            0|          0|   Y|                N|\n",
            "|  RZ42RQETPLVW|Wrangler Boys' Au...|          4|            0|          0|   Y|                N|\n",
            "|R3U60VD7MU5OBG|Wrangler Boys' Au...|          5|            0|          0|   Y|                N|\n",
            "| R6PQR7XG9MBQL|Wrangler Boys' Au...|          5|            0|          0|   Y|                N|\n",
            "|R1B4517J1CER8C|Wrangler Boys' Au...|          4|            0|          0|   Y|                N|\n",
            "|R3ODVJTVUKCIZU|Wrangler Boys' Au...|          4|            0|          0|   Y|                N|\n",
            "|R3VNIEA2I353E4|Wrangler Boys' Au...|          5|            0|          0|   Y|                N|\n",
            "| RW3B4NTK1154C|Wrangler Boys' Au...|          5|            0|          0|   Y|                N|\n",
            "| RUSKB3OPZRT1W|Wrangler Boys' Au...|          5|            0|          0|   Y|                N|\n",
            "|R2ZI8H1J43SSX0|Wrangler Authenti...|          5|            0|          0|   Y|                N|\n",
            "|R243JHTB9S01LP|Wrangler Authenti...|          4|            0|          0|   Y|                N|\n",
            "+--------------+--------------------+-----------+-------------+-----------+----+-----------------+\n",
            "only showing top 20 rows\n",
            "\n"
          ]
        }
      ]
    },
    {
      "cell_type": "code",
      "metadata": {
        "colab": {
          "base_uri": "https://localhost:8080/"
        },
        "id": "_iL-6r2LgcQ9",
        "outputId": "8339844b-b582-413f-a46a-c353a72b86d1"
      },
      "source": [
        "apparel2 = apparel.filter(apparel[\"vine\"] == \"N\").count()\n",
        "print(apparel2)"
      ],
      "execution_count": 49,
      "outputs": [
        {
          "output_type": "stream",
          "name": "stdout",
          "text": [
            "5903986\n"
          ]
        }
      ]
    },
    {
      "cell_type": "code",
      "metadata": {
        "colab": {
          "base_uri": "https://localhost:8080/"
        },
        "id": "dKmgPd2VgpGW",
        "outputId": "5c25d0a4-4cc5-4268-b828-11fed3862c47"
      },
      "source": [
        "apparel2 = apparel.filter(apparel[\"vine\"] == \"N\").show()"
      ],
      "execution_count": 50,
      "outputs": [
        {
          "output_type": "stream",
          "name": "stdout",
          "text": [
            "+--------------+--------------------+-----------+-------------+-----------+----+-----------------+\n",
            "|     review_id|       product_title|star_rating|helpful_votes|total_votes|vine|verified_purchase|\n",
            "+--------------+--------------------+-----------+-------------+-----------+----+-----------------+\n",
            "|R1KKOXHNI8MSXU|Easy Tool Stainle...|          4|            0|          0|   N|                Y|\n",
            "|R26SP2OPDK4HT7|V28 Women Cowl Ne...|          5|            1|          2|   N|                Y|\n",
            "| RWQEDYAX373I1|James Fiallo Men'...|          5|            0|          0|   N|                Y|\n",
            "|R231YI7R4GPF6J|Belfry Gangster 1...|          5|            0|          0|   N|                Y|\n",
            "|R3KO3W45DD0L1K|JAEDEN Women's Be...|          5|            0|          0|   N|                Y|\n",
            "|R1C4QH63NFL5NJ|Levi's Boys' 514 ...|          5|            0|          0|   N|                Y|\n",
            "|R2GP65O1U9N7BP|Minimalist Wallet...|          5|            0|          0|   N|                Y|\n",
            "|R3O29CT5MQQ3XQ|Harriton Men's Ba...|          4|            0|          0|   N|                Y|\n",
            "|R1ZECD2AA8QFF6|Jockey Women's Un...|          5|            0|          0|   N|                Y|\n",
            "|R2S79GCF6J89OA|Alexander Del Ros...|          3|            0|          0|   N|                Y|\n",
            "|R1CBCUGNP37MPK|Jockey Women's Un...|          5|            0|          0|   N|                Y|\n",
            "|R3NU4WUR5ZNV1V|Bali Passion For ...|          5|            0|          0|   N|                Y|\n",
            "|R32EPCJ3XF8LGE|Lilyette Women's ...|          5|            0|          0|   N|                Y|\n",
            "|R1XIBC6WQBW31M|Vanity Fair Women...|          5|            0|          0|   N|                Y|\n",
            "|R1P11MVDZ65LMH|Warner's Women's ...|          5|            0|          0|   N|                Y|\n",
            "|R1OJA3DJL0VDDK|Columbia Women's ...|          5|            0|          0|   N|                Y|\n",
            "|R1THWA5YRJLOOF|Robes King RK Cla...|          4|            0|          0|   N|                Y|\n",
            "| R738LCNRSJVXP|VIV Collection Be...|          5|            6|          7|   N|                Y|\n",
            "|R1N3Z13931J3O9|Fruit of the Loom...|          2|            0|          0|   N|                Y|\n",
            "|R1LBNTP7E8N89Z|Jockey Scrubs Wom...|          1|            0|          0|   N|                Y|\n",
            "+--------------+--------------------+-----------+-------------+-----------+----+-----------------+\n",
            "only showing top 20 rows\n",
            "\n"
          ]
        }
      ]
    },
    {
      "cell_type": "code",
      "metadata": {
        "colab": {
          "base_uri": "https://localhost:8080/"
        },
        "id": "8BcY2G-LLBgB",
        "outputId": "3d0c0708-b14d-4185-bfb4-976719f1a6f6"
      },
      "source": [
        "from pyspark.sql.functions import desc\n",
        "apparel_df1 = apparel.select([\"review_id\",\"product_title\", \"star_rating\", \"helpful_votes\", \"total_votes\", \"vine\", \"verified_purchase\"]).groupby(\"product_title\").agg({\"star_rating\":\"count\"})\n",
        "\n",
        "apparel_df1.orderBy(desc(\"count(star_rating)\")).show()"
      ],
      "execution_count": 25,
      "outputs": [
        {
          "output_type": "stream",
          "name": "stdout",
          "text": [
            "+--------------------+------------------+\n",
            "|       product_title|count(star_rating)|\n",
            "+--------------------+------------------+\n",
            "|Levi's Men's 505 ...|              5001|\n",
            "|SHARKK® Aluminum ...|              4699|\n",
            "|Glamorise Women's...|              4195|\n",
            "|Levi's Men's 501 ...|              3881|\n",
            "|Playtex Women's 1...|              3520|\n",
            "|Squeem 'Perfect W...|              3495|\n",
            "|Ann Chery Women's...|              3383|\n",
            "|Levi's Men's 511 ...|              3261|\n",
            "|Columbia Women's ...|              3125|\n",
            "|Ann Chery Women's...|              3109|\n",
            "|Fruit of the Loom...|              3081|\n",
            "|Lee Men's Regular...|              3026|\n",
            "|Levi's Men's 550 ...|              2979|\n",
            "|Dickies Men's Ori...|              2965|\n",
            "|Spalding Women's ...|              2691|\n",
            "|Haggar Men's Cool...|              2545|\n",
            "|Azules Women'S Ra...|              2538|\n",
            "|Hanes Men's Ultim...|              2319|\n",
            "|Lamaze Maternity ...|              2303|\n",
            "|Carhartt Men's Ac...|              2205|\n",
            "+--------------------+------------------+\n",
            "only showing top 20 rows\n",
            "\n"
          ]
        }
      ]
    },
    {
      "cell_type": "code",
      "metadata": {
        "colab": {
          "base_uri": "https://localhost:8080/"
        },
        "id": "pb3p0KnqMUQc",
        "outputId": "c1fa9756-7817-4dba-cbe8-dd817a7642ee"
      },
      "source": [
        "#filter the dataset for total_votes\n",
        "vine = apparel.select([\"review_id\",\"product_title\", \"star_rating\", \"helpful_votes\", \"total_votes\", \"vine\", \"verified_purchase\"])\n",
        "votes = apparel.filter(\"total_votes >= 10\")\n",
        "votes.show()"
      ],
      "execution_count": 21,
      "outputs": [
        {
          "output_type": "stream",
          "name": "stdout",
          "text": [
            "+--------------+--------------------+-----------+-------------+-----------+----+-----------------+\n",
            "|     review_id|       product_title|star_rating|helpful_votes|total_votes|vine|verified_purchase|\n",
            "+--------------+--------------------+-----------+-------------+-----------+----+-----------------+\n",
            "|R28TEK5081Q3SQ|V28 Women Girls J...|          5|           12|         12|   N|                Y|\n",
            "|R35IM9R63H3OVQ|Alain Dupetit Men...|          5|            7|         12|   N|                N|\n",
            "|R24PZ7L6UNRYLS|Silver Lilly Unis...|          5|           13|         13|   N|                N|\n",
            "| RHDEDSO28V1UG|Slip-On Scarf - P...|          5|            8|         10|   N|                N|\n",
            "|R3BCHELYQ0CHUF|Komene Women's El...|          5|           15|         18|   N|                N|\n",
            "| RL1L1QKPFMFOZ|Komene Women's El...|          1|            1|         11|   N|                N|\n",
            "|R35PT06NWP7LDP|Women Padded Spor...|          5|           30|         32|   N|                N|\n",
            "|R2P76PJFUGXBHO|Lovenest Men's- S...|          1|            6|         45|   N|                N|\n",
            "|R1B5MAZ0E4IEZA|Lovenest Men's- S...|          1|            0|         10|   N|                N|\n",
            "| RQW4AFOG9MR4Z|UONBOX Celebrity ...|          5|           51|         52|   N|                N|\n",
            "|R2SMUEBMGLAJQK|Vikoros Waist Cin...|          5|           29|         36|   N|                Y|\n",
            "|R1XVIZZALU5P6J|UONBOX Women's Ra...|          5|          148|        150|   N|                Y|\n",
            "|R11UFMG8M2488I|Meaneor Women's O...|          4|           23|         26|   N|                N|\n",
            "|R2OF7U5ISKVC1I|Meaneor Women's O...|          4|           11|         13|   N|                N|\n",
            "|R2A60XQ4BEONO0|Mountain Warehous...|          5|           16|         16|   N|                Y|\n",
            "|R39X2LVIKNKB26|ACEVOG Women Pack...|          5|            8|         12|   N|                N|\n",
            "|R2OSHKSPXU68W5|TOP LEGGING TL Wo...|          5|          136|        147|   N|                N|\n",
            "|R3M02FSD3BLUPU|Bepei Women's Lon...|          5|           19|         21|   N|                N|\n",
            "| RSVT5SOCT2GLP|Mordenmiss Women'...|          5|           19|         19|   N|                Y|\n",
            "|R1P0LEEJHH09L3|Yonala Women's Vi...|          5|           32|         32|   N|                Y|\n",
            "+--------------+--------------------+-----------+-------------+-----------+----+-----------------+\n",
            "only showing top 20 rows\n",
            "\n"
          ]
        }
      ]
    },
    {
      "cell_type": "code",
      "metadata": {
        "colab": {
          "base_uri": "https://localhost:8080/"
        },
        "id": "cEH7kR2ediiK",
        "outputId": "d8ddaa13-fe5a-4639-eda7-08ac9cda084a"
      },
      "source": [
        "votes_ratings_df = votes.select([\"star_rating\",\"helpful_votes\", \"total_votes\",\"vine\"])\\\n",
        "  .groupby(\"star_rating\")\\\n",
        "  .agg({\"star_rating\": \"count\", \"helpful_votes\": \"count\", \"total_votes\":\"count\"})\n",
        "votes_ratings_df.show(truncate=False)"
      ],
      "execution_count": 39,
      "outputs": [
        {
          "output_type": "stream",
          "name": "stdout",
          "text": [
            "+-----------+------------------+------------------+--------------------+\n",
            "|star_rating|count(total_votes)|count(star_rating)|count(helpful_votes)|\n",
            "+-----------+------------------+------------------+--------------------+\n",
            "|1          |19006             |19006             |19006               |\n",
            "|3          |11869             |11869             |11869               |\n",
            "|5          |56778             |56778             |56778               |\n",
            "|4          |19479             |19479             |19479               |\n",
            "|2          |8854              |8854              |8854                |\n",
            "+-----------+------------------+------------------+--------------------+\n",
            "\n"
          ]
        }
      ]
    },
    {
      "cell_type": "code",
      "metadata": {
        "colab": {
          "base_uri": "https://localhost:8080/"
        },
        "id": "jgOtqXFaYKbi",
        "outputId": "923e518e-f331-46a4-ae7b-3070a14228a1"
      },
      "source": [
        "votes_ratings_df.orderBy(desc(\"star_rating\")).show(truncate=False)"
      ],
      "execution_count": 41,
      "outputs": [
        {
          "output_type": "stream",
          "name": "stdout",
          "text": [
            "+-----------+------------------+------------------+--------------------+\n",
            "|star_rating|count(total_votes)|count(star_rating)|count(helpful_votes)|\n",
            "+-----------+------------------+------------------+--------------------+\n",
            "|5          |56778             |56778             |56778               |\n",
            "|4          |19479             |19479             |19479               |\n",
            "|3          |11869             |11869             |11869               |\n",
            "|2          |8854              |8854              |8854                |\n",
            "|1          |19006             |19006             |19006               |\n",
            "+-----------+------------------+------------------+--------------------+\n",
            "\n"
          ]
        }
      ]
    },
    {
      "cell_type": "code",
      "metadata": {
        "colab": {
          "base_uri": "https://localhost:8080/"
        },
        "id": "FnyCMq2jQua5",
        "outputId": "63e5f28f-4ba0-4d2d-f350-94fed6914d1e"
      },
      "source": [
        "# Helpful votes and total votes\n",
        "helpful_total = votes.filter(votes[\"helpful_votes\"]/votes[\"total_votes\"]>=0.5)\n",
        "helpful_total.show()"
      ],
      "execution_count": 26,
      "outputs": [
        {
          "output_type": "stream",
          "name": "stdout",
          "text": [
            "+--------------+--------------------+-----------+-------------+-----------+----+-----------------+\n",
            "|     review_id|       product_title|star_rating|helpful_votes|total_votes|vine|verified_purchase|\n",
            "+--------------+--------------------+-----------+-------------+-----------+----+-----------------+\n",
            "|R28TEK5081Q3SQ|V28 Women Girls J...|          5|           12|         12|   N|                Y|\n",
            "|R35IM9R63H3OVQ|Alain Dupetit Men...|          5|            7|         12|   N|                N|\n",
            "|R24PZ7L6UNRYLS|Silver Lilly Unis...|          5|           13|         13|   N|                N|\n",
            "| RHDEDSO28V1UG|Slip-On Scarf - P...|          5|            8|         10|   N|                N|\n",
            "|R3BCHELYQ0CHUF|Komene Women's El...|          5|           15|         18|   N|                N|\n",
            "|R35PT06NWP7LDP|Women Padded Spor...|          5|           30|         32|   N|                N|\n",
            "| RQW4AFOG9MR4Z|UONBOX Celebrity ...|          5|           51|         52|   N|                N|\n",
            "|R2SMUEBMGLAJQK|Vikoros Waist Cin...|          5|           29|         36|   N|                Y|\n",
            "|R1XVIZZALU5P6J|UONBOX Women's Ra...|          5|          148|        150|   N|                Y|\n",
            "|R11UFMG8M2488I|Meaneor Women's O...|          4|           23|         26|   N|                N|\n",
            "|R2OF7U5ISKVC1I|Meaneor Women's O...|          4|           11|         13|   N|                N|\n",
            "|R2A60XQ4BEONO0|Mountain Warehous...|          5|           16|         16|   N|                Y|\n",
            "|R39X2LVIKNKB26|ACEVOG Women Pack...|          5|            8|         12|   N|                N|\n",
            "|R2OSHKSPXU68W5|TOP LEGGING TL Wo...|          5|          136|        147|   N|                N|\n",
            "|R3M02FSD3BLUPU|Bepei Women's Lon...|          5|           19|         21|   N|                N|\n",
            "| RSVT5SOCT2GLP|Mordenmiss Women'...|          5|           19|         19|   N|                Y|\n",
            "|R1P0LEEJHH09L3|Yonala Women's Vi...|          5|           32|         32|   N|                Y|\n",
            "|R374NJ4P1ZK5AC|ViiViiKay Womens ...|          4|            9|         11|   N|                N|\n",
            "|R3V4UVZL659MQ1|Donald Trump For ...|          5|            8|         15|   N|                Y|\n",
            "|R1V6UU1EHW3Q12|Geoffrey Beene Me...|          5|           57|         62|   N|                Y|\n",
            "+--------------+--------------------+-----------+-------------+-----------+----+-----------------+\n",
            "only showing top 20 rows\n",
            "\n"
          ]
        }
      ]
    },
    {
      "cell_type": "code",
      "metadata": {
        "colab": {
          "base_uri": "https://localhost:8080/"
        },
        "id": "Pyxr7NZ3ZRzn",
        "outputId": "95ef5504-2554-4d97-d8ae-9463268f54a0"
      },
      "source": [
        "helpful_total.count()"
      ],
      "execution_count": 27,
      "outputs": [
        {
          "output_type": "execute_result",
          "data": {
            "text/plain": [
              "110524"
            ]
          },
          "metadata": {},
          "execution_count": 27
        }
      ]
    },
    {
      "cell_type": "code",
      "metadata": {
        "colab": {
          "base_uri": "https://localhost:8080/"
        },
        "id": "NYVqD-MiQzDE",
        "outputId": "234b76da-3717-41b0-a1f0-6476ad0ca9a7"
      },
      "source": [
        "# helpful_total filtered to show vine reviews\n",
        "helpful_total.filter(helpful_total[\"vine\"] == \"Y\").show()"
      ],
      "execution_count": 28,
      "outputs": [
        {
          "output_type": "stream",
          "name": "stdout",
          "text": [
            "+--------------+--------------------+-----------+-------------+-----------+----+-----------------+\n",
            "|     review_id|       product_title|star_rating|helpful_votes|total_votes|vine|verified_purchase|\n",
            "+--------------+--------------------+-----------+-------------+-----------+----+-----------------+\n",
            "| R6U9701C3BGO6|Wrangler Authenti...|          3|          139|        147|   Y|                N|\n",
            "|R1XK3ALB45D7N4|Wrangler Authenti...|          5|           33|         34|   Y|                N|\n",
            "|R1PLLCVDGANA0J|Wrangler Authenti...|          5|           15|         15|   Y|                N|\n",
            "|R1IZCSTLX81D6C|Wrangler Authenti...|          5|           31|         33|   Y|                N|\n",
            "|R3S53FVP06C7AL|Wrangler Authenti...|          4|           17|         19|   Y|                N|\n",
            "|R2C8NC8EQLH4JF|Wrangler Authenti...|          3|           45|         48|   Y|                N|\n",
            "| RK727CQ82BPVD|Wrangler Authenti...|          5|           10|         10|   Y|                N|\n",
            "|R1KTWAAJAZ8YEP|Wrangler Authenti...|          4|           17|         18|   Y|                N|\n",
            "| RAS5EMYO1L2IU|Wrangler Authenti...|          5|           11|         12|   Y|                N|\n",
            "|R1JJ1YOJMOML1P|Wrangler Men's Au...|          5|           18|         21|   Y|                N|\n",
            "|R3TKG664L9MTXJ|Wrangler Authenti...|          4|          164|        175|   Y|                N|\n",
            "|R2E942L5EX73FP|Wrangler Men's Lo...|          5|           29|         33|   Y|                N|\n",
            "|R3B42IE8OTYEQ5|Wrangler Authenti...|          4|           15|         18|   Y|                N|\n",
            "|R3CGRT9HYB3LI7|Wrangler Authenti...|          5|           20|         21|   Y|                N|\n",
            "|R3HIFO4D3ZIBZ7|Wrangler Authenti...|          5|           25|         26|   Y|                N|\n",
            "| RSS0L221F4JD2|Wrangler Authenti...|          5|           12|         12|   Y|                N|\n",
            "|R2VUXJT91MXOQJ|Fruit of the Loom...|          3|           72|         79|   Y|                N|\n",
            "|R2B85NJ3M0LHMO|Fruit of the Loom...|          3|           11|         14|   Y|                N|\n",
            "|R1C8PGDXGYR30Z|Lee Women's Petit...|          4|           29|         30|   Y|                N|\n",
            "|R2F65U6IT4V8VM|Lee Women's Petit...|          5|           12|         13|   Y|                N|\n",
            "+--------------+--------------------+-----------+-------------+-----------+----+-----------------+\n",
            "only showing top 20 rows\n",
            "\n"
          ]
        }
      ]
    },
    {
      "cell_type": "code",
      "metadata": {
        "colab": {
          "base_uri": "https://localhost:8080/"
        },
        "id": "Wyv0NBB3Q3gf",
        "outputId": "5c746115-7c45-4fd5-cbf9-a0497d961b7a"
      },
      "source": [
        "# DataFrame filtered to show reviews that are not in the vine program \n",
        "helpful_total.filter(helpful_total[\"vine\"] == \"N\").show()"
      ],
      "execution_count": 29,
      "outputs": [
        {
          "output_type": "stream",
          "name": "stdout",
          "text": [
            "+--------------+--------------------+-----------+-------------+-----------+----+-----------------+\n",
            "|     review_id|       product_title|star_rating|helpful_votes|total_votes|vine|verified_purchase|\n",
            "+--------------+--------------------+-----------+-------------+-----------+----+-----------------+\n",
            "|R28TEK5081Q3SQ|V28 Women Girls J...|          5|           12|         12|   N|                Y|\n",
            "|R35IM9R63H3OVQ|Alain Dupetit Men...|          5|            7|         12|   N|                N|\n",
            "|R24PZ7L6UNRYLS|Silver Lilly Unis...|          5|           13|         13|   N|                N|\n",
            "| RHDEDSO28V1UG|Slip-On Scarf - P...|          5|            8|         10|   N|                N|\n",
            "|R3BCHELYQ0CHUF|Komene Women's El...|          5|           15|         18|   N|                N|\n",
            "|R35PT06NWP7LDP|Women Padded Spor...|          5|           30|         32|   N|                N|\n",
            "| RQW4AFOG9MR4Z|UONBOX Celebrity ...|          5|           51|         52|   N|                N|\n",
            "|R2SMUEBMGLAJQK|Vikoros Waist Cin...|          5|           29|         36|   N|                Y|\n",
            "|R1XVIZZALU5P6J|UONBOX Women's Ra...|          5|          148|        150|   N|                Y|\n",
            "|R11UFMG8M2488I|Meaneor Women's O...|          4|           23|         26|   N|                N|\n",
            "|R2OF7U5ISKVC1I|Meaneor Women's O...|          4|           11|         13|   N|                N|\n",
            "|R2A60XQ4BEONO0|Mountain Warehous...|          5|           16|         16|   N|                Y|\n",
            "|R39X2LVIKNKB26|ACEVOG Women Pack...|          5|            8|         12|   N|                N|\n",
            "|R2OSHKSPXU68W5|TOP LEGGING TL Wo...|          5|          136|        147|   N|                N|\n",
            "|R3M02FSD3BLUPU|Bepei Women's Lon...|          5|           19|         21|   N|                N|\n",
            "| RSVT5SOCT2GLP|Mordenmiss Women'...|          5|           19|         19|   N|                Y|\n",
            "|R1P0LEEJHH09L3|Yonala Women's Vi...|          5|           32|         32|   N|                Y|\n",
            "|R374NJ4P1ZK5AC|ViiViiKay Womens ...|          4|            9|         11|   N|                N|\n",
            "|R3V4UVZL659MQ1|Donald Trump For ...|          5|            8|         15|   N|                Y|\n",
            "|R1V6UU1EHW3Q12|Geoffrey Beene Me...|          5|           57|         62|   N|                Y|\n",
            "+--------------+--------------------+-----------+-------------+-----------+----+-----------------+\n",
            "only showing top 20 rows\n",
            "\n"
          ]
        }
      ]
    },
    {
      "cell_type": "code",
      "metadata": {
        "colab": {
          "base_uri": "https://localhost:8080/"
        },
        "id": "0X5W311-Q91c",
        "outputId": "f5e9fdc4-dfbb-4ab6-e497-ded766abb3c5"
      },
      "source": [
        "# number of five star reviews\n",
        "FiveStar = helpful_total.filter(helpful_total[\"star_rating\"]== 5)\n",
        "FiveStar.show()"
      ],
      "execution_count": 30,
      "outputs": [
        {
          "output_type": "stream",
          "name": "stdout",
          "text": [
            "+--------------+--------------------+-----------+-------------+-----------+----+-----------------+\n",
            "|     review_id|       product_title|star_rating|helpful_votes|total_votes|vine|verified_purchase|\n",
            "+--------------+--------------------+-----------+-------------+-----------+----+-----------------+\n",
            "|R28TEK5081Q3SQ|V28 Women Girls J...|          5|           12|         12|   N|                Y|\n",
            "|R35IM9R63H3OVQ|Alain Dupetit Men...|          5|            7|         12|   N|                N|\n",
            "|R24PZ7L6UNRYLS|Silver Lilly Unis...|          5|           13|         13|   N|                N|\n",
            "| RHDEDSO28V1UG|Slip-On Scarf - P...|          5|            8|         10|   N|                N|\n",
            "|R3BCHELYQ0CHUF|Komene Women's El...|          5|           15|         18|   N|                N|\n",
            "|R35PT06NWP7LDP|Women Padded Spor...|          5|           30|         32|   N|                N|\n",
            "| RQW4AFOG9MR4Z|UONBOX Celebrity ...|          5|           51|         52|   N|                N|\n",
            "|R2SMUEBMGLAJQK|Vikoros Waist Cin...|          5|           29|         36|   N|                Y|\n",
            "|R1XVIZZALU5P6J|UONBOX Women's Ra...|          5|          148|        150|   N|                Y|\n",
            "|R2A60XQ4BEONO0|Mountain Warehous...|          5|           16|         16|   N|                Y|\n",
            "|R39X2LVIKNKB26|ACEVOG Women Pack...|          5|            8|         12|   N|                N|\n",
            "|R2OSHKSPXU68W5|TOP LEGGING TL Wo...|          5|          136|        147|   N|                N|\n",
            "|R3M02FSD3BLUPU|Bepei Women's Lon...|          5|           19|         21|   N|                N|\n",
            "| RSVT5SOCT2GLP|Mordenmiss Women'...|          5|           19|         19|   N|                Y|\n",
            "|R1P0LEEJHH09L3|Yonala Women's Vi...|          5|           32|         32|   N|                Y|\n",
            "|R3V4UVZL659MQ1|Donald Trump For ...|          5|            8|         15|   N|                Y|\n",
            "|R1V6UU1EHW3Q12|Geoffrey Beene Me...|          5|           57|         62|   N|                Y|\n",
            "|R3L0NJBUTJTFS8|Sue&Joe Women's 3...|          5|           17|         18|   N|                Y|\n",
            "| RUHYWYZFFWUTB|Lace Short Tea Le...|          5|           13|         14|   N|                N|\n",
            "|R3O9XHJ4KZNQSB|Ekouaer Women's U...|          5|           10|         15|   N|                Y|\n",
            "+--------------+--------------------+-----------+-------------+-----------+----+-----------------+\n",
            "only showing top 20 rows\n",
            "\n"
          ]
        }
      ]
    },
    {
      "cell_type": "code",
      "metadata": {
        "colab": {
          "base_uri": "https://localhost:8080/"
        },
        "id": "wrYM-A5jwQJg",
        "outputId": "dfa4d892-5c94-4d7d-df26-513c82f7583a"
      },
      "source": [
        "FiveStar1 = helpful_total.filter(helpful_total[\"vine\"]== \"Y\")\n",
        "FiveStar1.count()"
      ],
      "execution_count": 55,
      "outputs": [
        {
          "output_type": "execute_result",
          "data": {
            "text/plain": [
              "74"
            ]
          },
          "metadata": {},
          "execution_count": 55
        }
      ]
    },
    {
      "cell_type": "code",
      "metadata": {
        "colab": {
          "base_uri": "https://localhost:8080/"
        },
        "id": "4gwZJPbjRGn-",
        "outputId": "81b0c477-86bc-48fe-956a-24efa788dd87"
      },
      "source": [
        "FiveStar.count()"
      ],
      "execution_count": 31,
      "outputs": [
        {
          "output_type": "execute_result",
          "data": {
            "text/plain": [
              "55872"
            ]
          },
          "metadata": {},
          "execution_count": 31
        }
      ]
    },
    {
      "cell_type": "code",
      "metadata": {
        "colab": {
          "base_uri": "https://localhost:8080/"
        },
        "id": "4rcOPA9JRJef",
        "outputId": "7c227d46-3147-41ab-b597-b7c56309089b"
      },
      "source": [
        "#t\n",
        "helpful_total.count()"
      ],
      "execution_count": 32,
      "outputs": [
        {
          "output_type": "execute_result",
          "data": {
            "text/plain": [
              "110524"
            ]
          },
          "metadata": {},
          "execution_count": 32
        }
      ]
    },
    {
      "cell_type": "code",
      "metadata": {
        "colab": {
          "base_uri": "https://localhost:8080/"
        },
        "id": "vYXTQViaRMqO",
        "outputId": "601b3f27-59a4-4a15-f3af-9682744533c0"
      },
      "source": [
        "#percentage of five star reviews\n",
        "FiveStar.count() / helpful_total.count()"
      ],
      "execution_count": 33,
      "outputs": [
        {
          "output_type": "execute_result",
          "data": {
            "text/plain": [
              "0.5055191632586588"
            ]
          },
          "metadata": {},
          "execution_count": 33
        }
      ]
    },
    {
      "cell_type": "code",
      "metadata": {
        "colab": {
          "base_uri": "https://localhost:8080/"
        },
        "id": "sWEaeuRTRQ8w",
        "outputId": "423ecfec-3f7a-47b3-bac7-d97f973c19b0"
      },
      "source": [
        "# Vine reviews\n",
        "FiveStar.filter(FiveStar[\"verified_purchase\"] == \"Y\").count()/helpful_total.filter(helpful_total[\"verified_purchase\"]== \"Y\").count()"
      ],
      "execution_count": 34,
      "outputs": [
        {
          "output_type": "execute_result",
          "data": {
            "text/plain": [
              "0.5086851412454672"
            ]
          },
          "metadata": {},
          "execution_count": 34
        }
      ]
    },
    {
      "cell_type": "code",
      "metadata": {
        "colab": {
          "base_uri": "https://localhost:8080/"
        },
        "id": "hSFyZpkCRWVN",
        "outputId": "5c5bf979-8f11-4ee0-9a6e-eb3403c75be3"
      },
      "source": [
        "# Non vine reviews\n",
        "FiveStar.filter(FiveStar[\"verified_purchase\"] == \"N\").count()/helpful_total.filter(helpful_total[\"verified_purchase\"]== \"N\").count()"
      ],
      "execution_count": 36,
      "outputs": [
        {
          "output_type": "execute_result",
          "data": {
            "text/plain": [
              "0.4921609369097091"
            ]
          },
          "metadata": {},
          "execution_count": 36
        }
      ]
    },
    {
      "cell_type": "code",
      "metadata": {
        "id": "um31cOBKRamw"
      },
      "source": [
        ""
      ],
      "execution_count": null,
      "outputs": []
    }
  ]
}